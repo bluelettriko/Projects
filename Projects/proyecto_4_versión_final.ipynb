{
 "cells": [
  {
   "cell_type": "markdown",
   "metadata": {},
   "source": [
    "# ¿Cuál es un mejor plan?\n",
    "\n",
    "Trabajas como analista para el operador de telecomunicaciones Megaline. La empresa ofrece a sus clientes dos tarifas de prepago, Surf y Ultimate. El departamento comercial quiere saber cuál de los planes genera más ingresos para poder ajustar el presupuesto de publicidad.\n",
    "\n",
    "Vas a realizar un análisis preliminar de las tarifas basado en una selección de clientes relativamente pequeña. Tendrás los datos de 500 clientes de Megaline: quiénes son los clientes, de dónde son, qué tarifa usan, así como la cantidad de llamadas que hicieron y los mensajes de texto que enviaron en 2018. Tu trabajo es analizar el comportamiento de los clientes y determinar qué tarifa de prepago genera más ingresos."
   ]
  },
  {
   "cell_type": "markdown",
   "metadata": {},
   "source": [
    "# Análisis de Tarifas de Prepago de Megaline\n",
    "\n",
    "__Descripción del Proyecto__\n",
    "\n",
    " - Analizar tarifas de prepago (Surf y Ultimate) de Megaline para determinar la más rentable\n",
    " - Datos de 500 clientes: llamadas, mensajes y uso de datos en 2018\n",
    "\n",
    "__Estudio Inicial__\n",
    "\n",
    " - Examinar archivos: \n",
    " \n",
    " `megaline_calls.csv`, `megaline_internet.csv`, `megaline_messages.csv`, `megaline_plans.csv`, `megaline_users.csv`\n",
    "\n",
    "__Preparación de Datos__\n",
    "\n",
    " - Convertir datos a tipos necesarios\n",
    " - Corregir errores en datos\n",
    " - Calcular llamadas, SMS, datos e ingresos mensuales por usuario\n",
    "\n",
    "__Análisis de Datos__\n",
    "\n",
    " - Describir comportamiento de clientes\n",
    " - Calcular promedio, varianza y desviación estándar\n",
    " - Crear histogramas y describir distribuciones\n",
    "\n",
    "__Paso 4: Prueba de Hipótesis__\n",
    "\n",
    " - Comparar ingresos promedio entre tarifas Surf y Ultimate\n",
    " - Probar diferencias en ingresos entre usuarios de Nueva York-Nueva Jersey y otras regiones\n",
    "\n",
    "__Paso 5: Conclusión General__\n",
    "\n",
    " - Interpretar resultados de pruebas y concluir sobre tarifas más rentables"
   ]
  },
  {
   "cell_type": "markdown",
   "metadata": {},
   "source": [
    "# Inicialización"
   ]
  },
  {
   "cell_type": "code",
   "execution_count": 1,
   "metadata": {},
   "outputs": [],
   "source": [
    "# cargar librerías\n",
    "\n",
    "import calendar\n",
    "import pandas as pd\n",
    "import numpy as np\n",
    "import seaborn as sns\n",
    "import scipy.stats as stats\n",
    "import matplotlib.pyplot as plt\n",
    "from IPython.display import display"
   ]
  },
  {
   "cell_type": "markdown",
   "metadata": {},
   "source": [
    "## Cargar los datos"
   ]
  },
  {
   "cell_type": "code",
   "execution_count": 2,
   "metadata": {},
   "outputs": [],
   "source": [
    "# cargar los archivos de datos en diferentes DataFrames\n",
    "\n",
    "megaline_plans_df_original = pd.read_csv(\"./megaline_plans.csv\")\n",
    "megaline_users_df_original = pd.read_csv(\"./megaline_users.csv\")\n",
    "megaline_calls_df_original = pd.read_csv(\"./megaline_calls.csv\")\n",
    "megaline_messages_df_original = pd.read_csv(\"./megaline_messages.csv\")\n",
    "megaline_internet_df_original = pd.read_csv(\"./megaline_internet.csv\")"
   ]
  },
  {
   "cell_type": "code",
   "execution_count": 3,
   "metadata": {},
   "outputs": [],
   "source": [
    "# crear copias de los DataFrames originales\n",
    "\n",
    "megaline_plans_df = megaline_plans_df_original.copy()\n",
    "megaline_users_df = megaline_users_df_original.copy()\n",
    "megaline_calls_df = megaline_calls_df_original.copy()\n",
    "megaline_messages_df = megaline_messages_df_original.copy()\n",
    "megaline_internet_df = megaline_internet_df_original.copy()"
   ]
  },
  {
   "cell_type": "markdown",
   "metadata": {},
   "source": [
    "# Preparar los datos"
   ]
  },
  {
   "cell_type": "markdown",
   "metadata": {},
   "source": [
    "__La tabla _plans_ `megaline_plans_df` (datos sobre las tarifas):__\n",
    "\n",
    " - `plan_name` — nombre de la tarifa\n",
    " - `usd_monthly_fee` — pago mensual en dólares estadounidenses\n",
    " - `minutes_included` — minutos incluidos al mes\n",
    " - `messages_included` — SMS incluidos al mes\n",
    " - `mb_per_month_included` — datos incluidos al mes (en megabytes)\n",
    " - `usd_per_minute` — precio por minuto tras exceder los límites del paquete (si el paquete incluye 100 minutos el operador cobrará el minuto 101)\n",
    " - `usd_per_message` — precio por SMS tras exceder los límites del paquete\n",
    " - `usd_per_gb` — precio por gigabyte de los datos extra tras exceder los límites del paquete (1 GB = 1024 megabytes)\n",
    "\n",
    "__La tabla _users_ `megaline_users_df` (datos sobre los usuarios):__\n",
    "\n",
    " - `user_id` — identificador único del usuario\n",
    " - `first_name` — nombre del usuario\n",
    " - `last_name` — apellido del usuario\n",
    " - `age` — edad del usuario (en años)\n",
    " - `reg_date` — fecha de suscripción (dd, mm, aa)\n",
    " - `churn_date` — la fecha en que el usuario dejó de usar el servicio \n",
    " - `city` — ciudad de residencia del usuario\n",
    " - `plan` — nombre de la tarifa\n",
    "\n",
    "__La tabla _calls_ `megaline_calls_df` (datos sobre las llamadas):__\n",
    "\n",
    " - `id` — identificador único de la llamada\n",
    " - `call_date` — fecha de la llamada\n",
    " - `duration` — duración de la llamada (en minutos)\n",
    " - `user_id` — el identificador del usuario que realiza la llamada\n",
    "\n",
    "__La tabla _messages_ `megaline_messages_df` (datos sobre los SMS):__\n",
    "\n",
    " - `id` — identificador único del SMS\n",
    " - `message_date` — fecha del SMS\n",
    " - `user_id` — el identificador del usuario que manda el SMS\n",
    "\n",
    "__La tabla _internet_ `megaline_internet_df` (datos sobre las sesiones web):__\n",
    "\n",
    " - `id` — identificador único de la sesión\n",
    " - `mb_used` — el volumen de datos gastados durante la sesión (en megabytes)\n",
    " - `session_date` — fecha de la sesión web\n",
    " - `user_id` — identificador del usuario\n",
    "\n"
   ]
  },
  {
   "cell_type": "markdown",
   "metadata": {},
   "source": [
    "## Planes"
   ]
  },
  {
   "cell_type": "code",
   "execution_count": 4,
   "metadata": {},
   "outputs": [
    {
     "name": "stdout",
     "output_type": "stream",
     "text": [
      "<class 'pandas.core.frame.DataFrame'>\n",
      "RangeIndex: 2 entries, 0 to 1\n",
      "Data columns (total 8 columns):\n",
      " #   Column                 Non-Null Count  Dtype  \n",
      "---  ------                 --------------  -----  \n",
      " 0   messages_included      2 non-null      int64  \n",
      " 1   mb_per_month_included  2 non-null      int64  \n",
      " 2   minutes_included       2 non-null      int64  \n",
      " 3   usd_monthly_pay        2 non-null      int64  \n",
      " 4   usd_per_gb             2 non-null      int64  \n",
      " 5   usd_per_message        2 non-null      float64\n",
      " 6   usd_per_minute         2 non-null      float64\n",
      " 7   plan_name              2 non-null      object \n",
      "dtypes: float64(2), int64(5), object(1)\n",
      "memory usage: 256.0+ bytes\n"
     ]
    }
   ],
   "source": [
    "# mostrar la información general sobre el DataFrame de los planes\n",
    "\n",
    "megaline_plans_df.info()"
   ]
  },
  {
   "cell_type": "code",
   "execution_count": 5,
   "metadata": {
    "tags": []
   },
   "outputs": [
    {
     "data": {
      "text/html": [
       "<div>\n",
       "<style scoped>\n",
       "    .dataframe tbody tr th:only-of-type {\n",
       "        vertical-align: middle;\n",
       "    }\n",
       "\n",
       "    .dataframe tbody tr th {\n",
       "        vertical-align: top;\n",
       "    }\n",
       "\n",
       "    .dataframe thead th {\n",
       "        text-align: right;\n",
       "    }\n",
       "</style>\n",
       "<table border=\"1\" class=\"dataframe\">\n",
       "  <thead>\n",
       "    <tr style=\"text-align: right;\">\n",
       "      <th></th>\n",
       "      <th>messages_included</th>\n",
       "      <th>mb_per_month_included</th>\n",
       "      <th>minutes_included</th>\n",
       "      <th>usd_monthly_pay</th>\n",
       "      <th>usd_per_gb</th>\n",
       "      <th>usd_per_message</th>\n",
       "      <th>usd_per_minute</th>\n",
       "      <th>plan_name</th>\n",
       "    </tr>\n",
       "  </thead>\n",
       "  <tbody>\n",
       "    <tr>\n",
       "      <th>0</th>\n",
       "      <td>50</td>\n",
       "      <td>15360</td>\n",
       "      <td>500</td>\n",
       "      <td>20</td>\n",
       "      <td>10</td>\n",
       "      <td>0.03</td>\n",
       "      <td>0.03</td>\n",
       "      <td>surf</td>\n",
       "    </tr>\n",
       "    <tr>\n",
       "      <th>1</th>\n",
       "      <td>1000</td>\n",
       "      <td>30720</td>\n",
       "      <td>3000</td>\n",
       "      <td>70</td>\n",
       "      <td>7</td>\n",
       "      <td>0.01</td>\n",
       "      <td>0.01</td>\n",
       "      <td>ultimate</td>\n",
       "    </tr>\n",
       "  </tbody>\n",
       "</table>\n",
       "</div>"
      ],
      "text/plain": [
       "   messages_included  mb_per_month_included  minutes_included  \\\n",
       "0                 50                  15360               500   \n",
       "1               1000                  30720              3000   \n",
       "\n",
       "   usd_monthly_pay  usd_per_gb  usd_per_message  usd_per_minute plan_name  \n",
       "0               20          10             0.03            0.03      surf  \n",
       "1               70           7             0.01            0.01  ultimate  "
      ]
     },
     "execution_count": 5,
     "metadata": {},
     "output_type": "execute_result"
    }
   ],
   "source": [
    "# imprimir una muestra de los datos para los planes\n",
    "\n",
    "megaline_plans_df"
   ]
  },
  {
   "cell_type": "markdown",
   "metadata": {},
   "source": [
    "__Evaluación:__\n",
    "\n",
    " - Los valores del DataFrame `megaline_plans_df` describen las condiciones de los dos planes"
   ]
  },
  {
   "cell_type": "markdown",
   "metadata": {},
   "source": [
    "__Plan \"Surf\"__\n",
    "\n",
    " - `messages_included`: 50 mensajes\n",
    " - `mb_per_month_included`: 15,360 MB (aproximadamente 15 GB)\n",
    " - `minutes_included`: 500 minutos\n",
    " - `usd_monthly_pay`: \\$DSD20\n",
    " - `usd_per_gb`: \\$10 por gigabyte extra de datos\n",
    " - `usd_per_message`: \\$0.03 por mensaje SMS adicional\n",
    " - `usd_per_minute`: \\$0.03 por minuto de llamada adicional\n",
    " \n",
    "\n",
    "__Plan \"Ultimate\"__\n",
    "\n",
    " - `messages_included`: 1,000 mensajes\n",
    " - `mb_per_month_included`: 30,720 MB (aproximadamente 31 GB)\n",
    " - `minutes_included`: 3,000 minutos\n",
    " - `usd_monthly_pay`: \\$70\n",
    " - `usd_per_gb`: \\$7 por gigabyte extra de datos\n",
    " - `usd_per_message`: \\$0.01 por mensaje SMS adicional\n",
    " - `usd_per_minute`: \\$0.01 por minuto de llamada adicional"
   ]
  },
  {
   "cell_type": "markdown",
   "metadata": {},
   "source": [
    " "
   ]
  },
  {
   "cell_type": "markdown",
   "metadata": {},
   "source": [
    "## Usuarios"
   ]
  },
  {
   "cell_type": "code",
   "execution_count": 6,
   "metadata": {},
   "outputs": [
    {
     "name": "stdout",
     "output_type": "stream",
     "text": [
      "<class 'pandas.core.frame.DataFrame'>\n",
      "RangeIndex: 500 entries, 0 to 499\n",
      "Data columns (total 8 columns):\n",
      " #   Column      Non-Null Count  Dtype \n",
      "---  ------      --------------  ----- \n",
      " 0   user_id     500 non-null    int64 \n",
      " 1   first_name  500 non-null    object\n",
      " 2   last_name   500 non-null    object\n",
      " 3   age         500 non-null    int64 \n",
      " 4   city        500 non-null    object\n",
      " 5   reg_date    500 non-null    object\n",
      " 6   plan        500 non-null    object\n",
      " 7   churn_date  34 non-null     object\n",
      "dtypes: int64(2), object(6)\n",
      "memory usage: 31.4+ KB\n",
      "--------------------------------------------------------\n"
     ]
    },
    {
     "data": {
      "text/plain": [
       "'Resumen estádistico de los valores en la columna `age`:'"
      ]
     },
     "metadata": {},
     "output_type": "display_data"
    },
    {
     "data": {
      "text/plain": [
       "count    500.000000\n",
       "mean      45.486000\n",
       "std       16.972269\n",
       "min       18.000000\n",
       "25%       30.000000\n",
       "50%       46.000000\n",
       "75%       61.000000\n",
       "max       75.000000\n",
       "Name: age, dtype: float64"
      ]
     },
     "metadata": {},
     "output_type": "display_data"
    }
   ],
   "source": [
    "# mostrar la información general/resumen sobre el DataFrame de los usuarios\n",
    "\n",
    "megaline_users_df.info()\n",
    "print('-'*56)\n",
    "display('Resumen estádistico de los valores en la columna `age`:', megaline_users_df['age'].describe())"
   ]
  },
  {
   "cell_type": "code",
   "execution_count": 7,
   "metadata": {
    "tags": []
   },
   "outputs": [
    {
     "data": {
      "text/html": [
       "<div>\n",
       "<style scoped>\n",
       "    .dataframe tbody tr th:only-of-type {\n",
       "        vertical-align: middle;\n",
       "    }\n",
       "\n",
       "    .dataframe tbody tr th {\n",
       "        vertical-align: top;\n",
       "    }\n",
       "\n",
       "    .dataframe thead th {\n",
       "        text-align: right;\n",
       "    }\n",
       "</style>\n",
       "<table border=\"1\" class=\"dataframe\">\n",
       "  <thead>\n",
       "    <tr style=\"text-align: right;\">\n",
       "      <th></th>\n",
       "      <th>user_id</th>\n",
       "      <th>first_name</th>\n",
       "      <th>last_name</th>\n",
       "      <th>age</th>\n",
       "      <th>city</th>\n",
       "      <th>reg_date</th>\n",
       "      <th>plan</th>\n",
       "      <th>churn_date</th>\n",
       "    </tr>\n",
       "  </thead>\n",
       "  <tbody>\n",
       "    <tr>\n",
       "      <th>0</th>\n",
       "      <td>1000</td>\n",
       "      <td>Anamaria</td>\n",
       "      <td>Bauer</td>\n",
       "      <td>45</td>\n",
       "      <td>Atlanta-Sandy Springs-Roswell, GA MSA</td>\n",
       "      <td>2018-12-24</td>\n",
       "      <td>ultimate</td>\n",
       "      <td>NaN</td>\n",
       "    </tr>\n",
       "    <tr>\n",
       "      <th>1</th>\n",
       "      <td>1001</td>\n",
       "      <td>Mickey</td>\n",
       "      <td>Wilkerson</td>\n",
       "      <td>28</td>\n",
       "      <td>Seattle-Tacoma-Bellevue, WA MSA</td>\n",
       "      <td>2018-08-13</td>\n",
       "      <td>surf</td>\n",
       "      <td>NaN</td>\n",
       "    </tr>\n",
       "    <tr>\n",
       "      <th>2</th>\n",
       "      <td>1002</td>\n",
       "      <td>Carlee</td>\n",
       "      <td>Hoffman</td>\n",
       "      <td>36</td>\n",
       "      <td>Las Vegas-Henderson-Paradise, NV MSA</td>\n",
       "      <td>2018-10-21</td>\n",
       "      <td>surf</td>\n",
       "      <td>NaN</td>\n",
       "    </tr>\n",
       "    <tr>\n",
       "      <th>3</th>\n",
       "      <td>1003</td>\n",
       "      <td>Reynaldo</td>\n",
       "      <td>Jenkins</td>\n",
       "      <td>52</td>\n",
       "      <td>Tulsa, OK MSA</td>\n",
       "      <td>2018-01-28</td>\n",
       "      <td>surf</td>\n",
       "      <td>NaN</td>\n",
       "    </tr>\n",
       "    <tr>\n",
       "      <th>4</th>\n",
       "      <td>1004</td>\n",
       "      <td>Leonila</td>\n",
       "      <td>Thompson</td>\n",
       "      <td>40</td>\n",
       "      <td>Seattle-Tacoma-Bellevue, WA MSA</td>\n",
       "      <td>2018-05-23</td>\n",
       "      <td>surf</td>\n",
       "      <td>NaN</td>\n",
       "    </tr>\n",
       "    <tr>\n",
       "      <th>5</th>\n",
       "      <td>1005</td>\n",
       "      <td>Livia</td>\n",
       "      <td>Shields</td>\n",
       "      <td>31</td>\n",
       "      <td>Dallas-Fort Worth-Arlington, TX MSA</td>\n",
       "      <td>2018-11-29</td>\n",
       "      <td>surf</td>\n",
       "      <td>NaN</td>\n",
       "    </tr>\n",
       "    <tr>\n",
       "      <th>6</th>\n",
       "      <td>1006</td>\n",
       "      <td>Jesusa</td>\n",
       "      <td>Bradford</td>\n",
       "      <td>73</td>\n",
       "      <td>San Francisco-Oakland-Berkeley, CA MSA</td>\n",
       "      <td>2018-11-27</td>\n",
       "      <td>ultimate</td>\n",
       "      <td>2018-12-18</td>\n",
       "    </tr>\n",
       "    <tr>\n",
       "      <th>7</th>\n",
       "      <td>1007</td>\n",
       "      <td>Eusebio</td>\n",
       "      <td>Welch</td>\n",
       "      <td>42</td>\n",
       "      <td>Grand Rapids-Kentwood, MI MSA</td>\n",
       "      <td>2018-07-11</td>\n",
       "      <td>surf</td>\n",
       "      <td>NaN</td>\n",
       "    </tr>\n",
       "    <tr>\n",
       "      <th>8</th>\n",
       "      <td>1008</td>\n",
       "      <td>Emely</td>\n",
       "      <td>Hoffman</td>\n",
       "      <td>53</td>\n",
       "      <td>Orlando-Kissimmee-Sanford, FL MSA</td>\n",
       "      <td>2018-08-03</td>\n",
       "      <td>ultimate</td>\n",
       "      <td>NaN</td>\n",
       "    </tr>\n",
       "    <tr>\n",
       "      <th>9</th>\n",
       "      <td>1009</td>\n",
       "      <td>Gerry</td>\n",
       "      <td>Little</td>\n",
       "      <td>19</td>\n",
       "      <td>San Jose-Sunnyvale-Santa Clara, CA MSA</td>\n",
       "      <td>2018-04-22</td>\n",
       "      <td>surf</td>\n",
       "      <td>NaN</td>\n",
       "    </tr>\n",
       "  </tbody>\n",
       "</table>\n",
       "</div>"
      ],
      "text/plain": [
       "   user_id first_name  last_name  age                                    city  \\\n",
       "0     1000   Anamaria      Bauer   45   Atlanta-Sandy Springs-Roswell, GA MSA   \n",
       "1     1001     Mickey  Wilkerson   28         Seattle-Tacoma-Bellevue, WA MSA   \n",
       "2     1002     Carlee    Hoffman   36    Las Vegas-Henderson-Paradise, NV MSA   \n",
       "3     1003   Reynaldo    Jenkins   52                           Tulsa, OK MSA   \n",
       "4     1004    Leonila   Thompson   40         Seattle-Tacoma-Bellevue, WA MSA   \n",
       "5     1005      Livia    Shields   31     Dallas-Fort Worth-Arlington, TX MSA   \n",
       "6     1006     Jesusa   Bradford   73  San Francisco-Oakland-Berkeley, CA MSA   \n",
       "7     1007    Eusebio      Welch   42           Grand Rapids-Kentwood, MI MSA   \n",
       "8     1008      Emely    Hoffman   53       Orlando-Kissimmee-Sanford, FL MSA   \n",
       "9     1009      Gerry     Little   19  San Jose-Sunnyvale-Santa Clara, CA MSA   \n",
       "\n",
       "     reg_date      plan  churn_date  \n",
       "0  2018-12-24  ultimate         NaN  \n",
       "1  2018-08-13      surf         NaN  \n",
       "2  2018-10-21      surf         NaN  \n",
       "3  2018-01-28      surf         NaN  \n",
       "4  2018-05-23      surf         NaN  \n",
       "5  2018-11-29      surf         NaN  \n",
       "6  2018-11-27  ultimate  2018-12-18  \n",
       "7  2018-07-11      surf         NaN  \n",
       "8  2018-08-03  ultimate         NaN  \n",
       "9  2018-04-22      surf         NaN  "
      ]
     },
     "execution_count": 7,
     "metadata": {},
     "output_type": "execute_result"
    }
   ],
   "source": [
    "# imprimir una muestra de los datos para los usuarios\n",
    "\n",
    "megaline_users_df.head(10)"
   ]
  },
  {
   "cell_type": "markdown",
   "metadata": {},
   "source": [
    "__Evaluacion:__\n",
    "\n",
    " - Hay __500__ filas en `megaline_users_df` que representan los __usuarios__ cuyos datos tenemos a disposición\n",
    " - Vamos a __convertir__ los valores en `reg_date` a datetime\n",
    " - Vamos a __convertir__ la los valores en `churn_date` a datetime, cambiando los valores ausentes en __NaT__\n",
    " - Agregamos una __nueva columna__ `active_client` que contendrá valores booleanos para indicar si un cliente está activo (__True__) o no (__False__)"
   ]
  },
  {
   "cell_type": "code",
   "execution_count": 8,
   "metadata": {},
   "outputs": [
    {
     "name": "stdout",
     "output_type": "stream",
     "text": [
      "5   reg_date    500 non-null     datetime64[ns]\n"
     ]
    }
   ],
   "source": [
    "# convertir la columna `reg_date` a datetime\n",
    "\n",
    "megaline_users_df['reg_date'] = pd.to_datetime(megaline_users_df['reg_date'])\n",
    "print('5   reg_date    500 non-null    ', megaline_users_df['reg_date'].dtypes)"
   ]
  },
  {
   "cell_type": "code",
   "execution_count": 9,
   "metadata": {},
   "outputs": [
    {
     "name": "stdout",
     "output_type": "stream",
     "text": [
      "7   churn_date  34 non-null      datetime64[ns]\n",
      "\n"
     ]
    },
    {
     "data": {
      "text/html": [
       "<div>\n",
       "<style scoped>\n",
       "    .dataframe tbody tr th:only-of-type {\n",
       "        vertical-align: middle;\n",
       "    }\n",
       "\n",
       "    .dataframe tbody tr th {\n",
       "        vertical-align: top;\n",
       "    }\n",
       "\n",
       "    .dataframe thead th {\n",
       "        text-align: right;\n",
       "    }\n",
       "</style>\n",
       "<table border=\"1\" class=\"dataframe\">\n",
       "  <thead>\n",
       "    <tr style=\"text-align: right;\">\n",
       "      <th></th>\n",
       "      <th>user_id</th>\n",
       "      <th>first_name</th>\n",
       "      <th>last_name</th>\n",
       "      <th>age</th>\n",
       "      <th>city</th>\n",
       "      <th>reg_date</th>\n",
       "      <th>plan</th>\n",
       "      <th>churn_date</th>\n",
       "    </tr>\n",
       "  </thead>\n",
       "  <tbody>\n",
       "    <tr>\n",
       "      <th>0</th>\n",
       "      <td>1000</td>\n",
       "      <td>Anamaria</td>\n",
       "      <td>Bauer</td>\n",
       "      <td>45</td>\n",
       "      <td>Atlanta-Sandy Springs-Roswell, GA MSA</td>\n",
       "      <td>2018-12-24</td>\n",
       "      <td>ultimate</td>\n",
       "      <td>NaT</td>\n",
       "    </tr>\n",
       "    <tr>\n",
       "      <th>1</th>\n",
       "      <td>1001</td>\n",
       "      <td>Mickey</td>\n",
       "      <td>Wilkerson</td>\n",
       "      <td>28</td>\n",
       "      <td>Seattle-Tacoma-Bellevue, WA MSA</td>\n",
       "      <td>2018-08-13</td>\n",
       "      <td>surf</td>\n",
       "      <td>NaT</td>\n",
       "    </tr>\n",
       "    <tr>\n",
       "      <th>2</th>\n",
       "      <td>1002</td>\n",
       "      <td>Carlee</td>\n",
       "      <td>Hoffman</td>\n",
       "      <td>36</td>\n",
       "      <td>Las Vegas-Henderson-Paradise, NV MSA</td>\n",
       "      <td>2018-10-21</td>\n",
       "      <td>surf</td>\n",
       "      <td>NaT</td>\n",
       "    </tr>\n",
       "    <tr>\n",
       "      <th>3</th>\n",
       "      <td>1003</td>\n",
       "      <td>Reynaldo</td>\n",
       "      <td>Jenkins</td>\n",
       "      <td>52</td>\n",
       "      <td>Tulsa, OK MSA</td>\n",
       "      <td>2018-01-28</td>\n",
       "      <td>surf</td>\n",
       "      <td>NaT</td>\n",
       "    </tr>\n",
       "    <tr>\n",
       "      <th>4</th>\n",
       "      <td>1004</td>\n",
       "      <td>Leonila</td>\n",
       "      <td>Thompson</td>\n",
       "      <td>40</td>\n",
       "      <td>Seattle-Tacoma-Bellevue, WA MSA</td>\n",
       "      <td>2018-05-23</td>\n",
       "      <td>surf</td>\n",
       "      <td>NaT</td>\n",
       "    </tr>\n",
       "    <tr>\n",
       "      <th>5</th>\n",
       "      <td>1005</td>\n",
       "      <td>Livia</td>\n",
       "      <td>Shields</td>\n",
       "      <td>31</td>\n",
       "      <td>Dallas-Fort Worth-Arlington, TX MSA</td>\n",
       "      <td>2018-11-29</td>\n",
       "      <td>surf</td>\n",
       "      <td>NaT</td>\n",
       "    </tr>\n",
       "    <tr>\n",
       "      <th>6</th>\n",
       "      <td>1006</td>\n",
       "      <td>Jesusa</td>\n",
       "      <td>Bradford</td>\n",
       "      <td>73</td>\n",
       "      <td>San Francisco-Oakland-Berkeley, CA MSA</td>\n",
       "      <td>2018-11-27</td>\n",
       "      <td>ultimate</td>\n",
       "      <td>2018-12-18</td>\n",
       "    </tr>\n",
       "    <tr>\n",
       "      <th>7</th>\n",
       "      <td>1007</td>\n",
       "      <td>Eusebio</td>\n",
       "      <td>Welch</td>\n",
       "      <td>42</td>\n",
       "      <td>Grand Rapids-Kentwood, MI MSA</td>\n",
       "      <td>2018-07-11</td>\n",
       "      <td>surf</td>\n",
       "      <td>NaT</td>\n",
       "    </tr>\n",
       "    <tr>\n",
       "      <th>8</th>\n",
       "      <td>1008</td>\n",
       "      <td>Emely</td>\n",
       "      <td>Hoffman</td>\n",
       "      <td>53</td>\n",
       "      <td>Orlando-Kissimmee-Sanford, FL MSA</td>\n",
       "      <td>2018-08-03</td>\n",
       "      <td>ultimate</td>\n",
       "      <td>NaT</td>\n",
       "    </tr>\n",
       "    <tr>\n",
       "      <th>9</th>\n",
       "      <td>1009</td>\n",
       "      <td>Gerry</td>\n",
       "      <td>Little</td>\n",
       "      <td>19</td>\n",
       "      <td>San Jose-Sunnyvale-Santa Clara, CA MSA</td>\n",
       "      <td>2018-04-22</td>\n",
       "      <td>surf</td>\n",
       "      <td>NaT</td>\n",
       "    </tr>\n",
       "  </tbody>\n",
       "</table>\n",
       "</div>"
      ],
      "text/plain": [
       "   user_id first_name  last_name  age                                    city  \\\n",
       "0     1000   Anamaria      Bauer   45   Atlanta-Sandy Springs-Roswell, GA MSA   \n",
       "1     1001     Mickey  Wilkerson   28         Seattle-Tacoma-Bellevue, WA MSA   \n",
       "2     1002     Carlee    Hoffman   36    Las Vegas-Henderson-Paradise, NV MSA   \n",
       "3     1003   Reynaldo    Jenkins   52                           Tulsa, OK MSA   \n",
       "4     1004    Leonila   Thompson   40         Seattle-Tacoma-Bellevue, WA MSA   \n",
       "5     1005      Livia    Shields   31     Dallas-Fort Worth-Arlington, TX MSA   \n",
       "6     1006     Jesusa   Bradford   73  San Francisco-Oakland-Berkeley, CA MSA   \n",
       "7     1007    Eusebio      Welch   42           Grand Rapids-Kentwood, MI MSA   \n",
       "8     1008      Emely    Hoffman   53       Orlando-Kissimmee-Sanford, FL MSA   \n",
       "9     1009      Gerry     Little   19  San Jose-Sunnyvale-Santa Clara, CA MSA   \n",
       "\n",
       "    reg_date      plan churn_date  \n",
       "0 2018-12-24  ultimate        NaT  \n",
       "1 2018-08-13      surf        NaT  \n",
       "2 2018-10-21      surf        NaT  \n",
       "3 2018-01-28      surf        NaT  \n",
       "4 2018-05-23      surf        NaT  \n",
       "5 2018-11-29      surf        NaT  \n",
       "6 2018-11-27  ultimate 2018-12-18  \n",
       "7 2018-07-11      surf        NaT  \n",
       "8 2018-08-03  ultimate        NaT  \n",
       "9 2018-04-22      surf        NaT  "
      ]
     },
     "metadata": {},
     "output_type": "display_data"
    }
   ],
   "source": [
    "# convertir la columna `churn_date` a datetime con valores no válidos como NaT \n",
    "\n",
    "megaline_users_df['churn_date'] = pd.to_datetime(megaline_users_df['churn_date'], errors='coerce')\n",
    "print('7   churn_date  34 non-null     ', megaline_users_df['churn_date'].dtypes)\n",
    "print()\n",
    "display(megaline_users_df.head(10))"
   ]
  },
  {
   "cell_type": "code",
   "execution_count": 10,
   "metadata": {},
   "outputs": [
    {
     "data": {
      "text/html": [
       "<div>\n",
       "<style scoped>\n",
       "    .dataframe tbody tr th:only-of-type {\n",
       "        vertical-align: middle;\n",
       "    }\n",
       "\n",
       "    .dataframe tbody tr th {\n",
       "        vertical-align: top;\n",
       "    }\n",
       "\n",
       "    .dataframe thead th {\n",
       "        text-align: right;\n",
       "    }\n",
       "</style>\n",
       "<table border=\"1\" class=\"dataframe\">\n",
       "  <thead>\n",
       "    <tr style=\"text-align: right;\">\n",
       "      <th></th>\n",
       "      <th>user_id</th>\n",
       "      <th>first_name</th>\n",
       "      <th>last_name</th>\n",
       "      <th>age</th>\n",
       "      <th>city</th>\n",
       "      <th>reg_date</th>\n",
       "      <th>plan</th>\n",
       "      <th>churn_date</th>\n",
       "      <th>active_client</th>\n",
       "    </tr>\n",
       "  </thead>\n",
       "  <tbody>\n",
       "    <tr>\n",
       "      <th>0</th>\n",
       "      <td>1000</td>\n",
       "      <td>Anamaria</td>\n",
       "      <td>Bauer</td>\n",
       "      <td>45</td>\n",
       "      <td>Atlanta-Sandy Springs-Roswell, GA MSA</td>\n",
       "      <td>2018-12-24</td>\n",
       "      <td>ultimate</td>\n",
       "      <td>NaT</td>\n",
       "      <td>True</td>\n",
       "    </tr>\n",
       "    <tr>\n",
       "      <th>1</th>\n",
       "      <td>1001</td>\n",
       "      <td>Mickey</td>\n",
       "      <td>Wilkerson</td>\n",
       "      <td>28</td>\n",
       "      <td>Seattle-Tacoma-Bellevue, WA MSA</td>\n",
       "      <td>2018-08-13</td>\n",
       "      <td>surf</td>\n",
       "      <td>NaT</td>\n",
       "      <td>True</td>\n",
       "    </tr>\n",
       "    <tr>\n",
       "      <th>2</th>\n",
       "      <td>1002</td>\n",
       "      <td>Carlee</td>\n",
       "      <td>Hoffman</td>\n",
       "      <td>36</td>\n",
       "      <td>Las Vegas-Henderson-Paradise, NV MSA</td>\n",
       "      <td>2018-10-21</td>\n",
       "      <td>surf</td>\n",
       "      <td>NaT</td>\n",
       "      <td>True</td>\n",
       "    </tr>\n",
       "    <tr>\n",
       "      <th>3</th>\n",
       "      <td>1003</td>\n",
       "      <td>Reynaldo</td>\n",
       "      <td>Jenkins</td>\n",
       "      <td>52</td>\n",
       "      <td>Tulsa, OK MSA</td>\n",
       "      <td>2018-01-28</td>\n",
       "      <td>surf</td>\n",
       "      <td>NaT</td>\n",
       "      <td>True</td>\n",
       "    </tr>\n",
       "    <tr>\n",
       "      <th>4</th>\n",
       "      <td>1004</td>\n",
       "      <td>Leonila</td>\n",
       "      <td>Thompson</td>\n",
       "      <td>40</td>\n",
       "      <td>Seattle-Tacoma-Bellevue, WA MSA</td>\n",
       "      <td>2018-05-23</td>\n",
       "      <td>surf</td>\n",
       "      <td>NaT</td>\n",
       "      <td>True</td>\n",
       "    </tr>\n",
       "    <tr>\n",
       "      <th>5</th>\n",
       "      <td>1005</td>\n",
       "      <td>Livia</td>\n",
       "      <td>Shields</td>\n",
       "      <td>31</td>\n",
       "      <td>Dallas-Fort Worth-Arlington, TX MSA</td>\n",
       "      <td>2018-11-29</td>\n",
       "      <td>surf</td>\n",
       "      <td>NaT</td>\n",
       "      <td>True</td>\n",
       "    </tr>\n",
       "    <tr>\n",
       "      <th>6</th>\n",
       "      <td>1006</td>\n",
       "      <td>Jesusa</td>\n",
       "      <td>Bradford</td>\n",
       "      <td>73</td>\n",
       "      <td>San Francisco-Oakland-Berkeley, CA MSA</td>\n",
       "      <td>2018-11-27</td>\n",
       "      <td>ultimate</td>\n",
       "      <td>2018-12-18</td>\n",
       "      <td>False</td>\n",
       "    </tr>\n",
       "    <tr>\n",
       "      <th>7</th>\n",
       "      <td>1007</td>\n",
       "      <td>Eusebio</td>\n",
       "      <td>Welch</td>\n",
       "      <td>42</td>\n",
       "      <td>Grand Rapids-Kentwood, MI MSA</td>\n",
       "      <td>2018-07-11</td>\n",
       "      <td>surf</td>\n",
       "      <td>NaT</td>\n",
       "      <td>True</td>\n",
       "    </tr>\n",
       "    <tr>\n",
       "      <th>8</th>\n",
       "      <td>1008</td>\n",
       "      <td>Emely</td>\n",
       "      <td>Hoffman</td>\n",
       "      <td>53</td>\n",
       "      <td>Orlando-Kissimmee-Sanford, FL MSA</td>\n",
       "      <td>2018-08-03</td>\n",
       "      <td>ultimate</td>\n",
       "      <td>NaT</td>\n",
       "      <td>True</td>\n",
       "    </tr>\n",
       "    <tr>\n",
       "      <th>9</th>\n",
       "      <td>1009</td>\n",
       "      <td>Gerry</td>\n",
       "      <td>Little</td>\n",
       "      <td>19</td>\n",
       "      <td>San Jose-Sunnyvale-Santa Clara, CA MSA</td>\n",
       "      <td>2018-04-22</td>\n",
       "      <td>surf</td>\n",
       "      <td>NaT</td>\n",
       "      <td>True</td>\n",
       "    </tr>\n",
       "  </tbody>\n",
       "</table>\n",
       "</div>"
      ],
      "text/plain": [
       "   user_id first_name  last_name  age                                    city  \\\n",
       "0     1000   Anamaria      Bauer   45   Atlanta-Sandy Springs-Roswell, GA MSA   \n",
       "1     1001     Mickey  Wilkerson   28         Seattle-Tacoma-Bellevue, WA MSA   \n",
       "2     1002     Carlee    Hoffman   36    Las Vegas-Henderson-Paradise, NV MSA   \n",
       "3     1003   Reynaldo    Jenkins   52                           Tulsa, OK MSA   \n",
       "4     1004    Leonila   Thompson   40         Seattle-Tacoma-Bellevue, WA MSA   \n",
       "5     1005      Livia    Shields   31     Dallas-Fort Worth-Arlington, TX MSA   \n",
       "6     1006     Jesusa   Bradford   73  San Francisco-Oakland-Berkeley, CA MSA   \n",
       "7     1007    Eusebio      Welch   42           Grand Rapids-Kentwood, MI MSA   \n",
       "8     1008      Emely    Hoffman   53       Orlando-Kissimmee-Sanford, FL MSA   \n",
       "9     1009      Gerry     Little   19  San Jose-Sunnyvale-Santa Clara, CA MSA   \n",
       "\n",
       "    reg_date      plan churn_date  active_client  \n",
       "0 2018-12-24  ultimate        NaT           True  \n",
       "1 2018-08-13      surf        NaT           True  \n",
       "2 2018-10-21      surf        NaT           True  \n",
       "3 2018-01-28      surf        NaT           True  \n",
       "4 2018-05-23      surf        NaT           True  \n",
       "5 2018-11-29      surf        NaT           True  \n",
       "6 2018-11-27  ultimate 2018-12-18          False  \n",
       "7 2018-07-11      surf        NaT           True  \n",
       "8 2018-08-03  ultimate        NaT           True  \n",
       "9 2018-04-22      surf        NaT           True  "
      ]
     },
     "execution_count": 10,
     "metadata": {},
     "output_type": "execute_result"
    }
   ],
   "source": [
    "# agregar una columna `active_client` basada en la columna `churn_date` para determinar si el cliente está activo o no\n",
    "\n",
    "megaline_users_df['active_client'] = megaline_users_df['churn_date'].isnull()\n",
    "megaline_users_df.head(10)"
   ]
  },
  {
   "cell_type": "markdown",
   "metadata": {},
   "source": [
    "## Llamadas"
   ]
  },
  {
   "cell_type": "code",
   "execution_count": 11,
   "metadata": {},
   "outputs": [
    {
     "name": "stdout",
     "output_type": "stream",
     "text": [
      "<class 'pandas.core.frame.DataFrame'>\n",
      "RangeIndex: 137735 entries, 0 to 137734\n",
      "Data columns (total 4 columns):\n",
      " #   Column     Non-Null Count   Dtype  \n",
      "---  ------     --------------   -----  \n",
      " 0   id         137735 non-null  object \n",
      " 1   user_id    137735 non-null  int64  \n",
      " 2   call_date  137735 non-null  object \n",
      " 3   duration   137735 non-null  float64\n",
      "dtypes: float64(1), int64(1), object(2)\n",
      "memory usage: 4.2+ MB\n",
      "None\n",
      "--------------------------------------------------------------\n"
     ]
    },
    {
     "data": {
      "text/plain": [
       "'Resumen estádistico de los valores en la columna `duration`:'"
      ]
     },
     "metadata": {},
     "output_type": "display_data"
    },
    {
     "data": {
      "text/plain": [
       "count    137735.000000\n",
       "mean          6.745927\n",
       "std           5.839241\n",
       "min           0.000000\n",
       "25%           1.290000\n",
       "50%           5.980000\n",
       "75%          10.690000\n",
       "max          37.600000\n",
       "Name: duration, dtype: float64"
      ]
     },
     "metadata": {},
     "output_type": "display_data"
    }
   ],
   "source": [
    "# mostrar la información/resumen general sobre el DataFrame de las llamadas\n",
    "\n",
    "print(megaline_calls_df.info())  \n",
    "print('-'*62)\n",
    "display('Resumen estádistico de los valores en la columna `duration`:', megaline_calls_df['duration'].describe())  "
   ]
  },
  {
   "cell_type": "code",
   "execution_count": 12,
   "metadata": {
    "tags": []
   },
   "outputs": [
    {
     "data": {
      "text/html": [
       "<div>\n",
       "<style scoped>\n",
       "    .dataframe tbody tr th:only-of-type {\n",
       "        vertical-align: middle;\n",
       "    }\n",
       "\n",
       "    .dataframe tbody tr th {\n",
       "        vertical-align: top;\n",
       "    }\n",
       "\n",
       "    .dataframe thead th {\n",
       "        text-align: right;\n",
       "    }\n",
       "</style>\n",
       "<table border=\"1\" class=\"dataframe\">\n",
       "  <thead>\n",
       "    <tr style=\"text-align: right;\">\n",
       "      <th></th>\n",
       "      <th>id</th>\n",
       "      <th>user_id</th>\n",
       "      <th>call_date</th>\n",
       "      <th>duration</th>\n",
       "    </tr>\n",
       "  </thead>\n",
       "  <tbody>\n",
       "    <tr>\n",
       "      <th>0</th>\n",
       "      <td>1000_93</td>\n",
       "      <td>1000</td>\n",
       "      <td>2018-12-27</td>\n",
       "      <td>8.52</td>\n",
       "    </tr>\n",
       "    <tr>\n",
       "      <th>1</th>\n",
       "      <td>1000_145</td>\n",
       "      <td>1000</td>\n",
       "      <td>2018-12-27</td>\n",
       "      <td>13.66</td>\n",
       "    </tr>\n",
       "    <tr>\n",
       "      <th>2</th>\n",
       "      <td>1000_247</td>\n",
       "      <td>1000</td>\n",
       "      <td>2018-12-27</td>\n",
       "      <td>14.48</td>\n",
       "    </tr>\n",
       "    <tr>\n",
       "      <th>3</th>\n",
       "      <td>1000_309</td>\n",
       "      <td>1000</td>\n",
       "      <td>2018-12-28</td>\n",
       "      <td>5.76</td>\n",
       "    </tr>\n",
       "    <tr>\n",
       "      <th>4</th>\n",
       "      <td>1000_380</td>\n",
       "      <td>1000</td>\n",
       "      <td>2018-12-30</td>\n",
       "      <td>4.22</td>\n",
       "    </tr>\n",
       "    <tr>\n",
       "      <th>5</th>\n",
       "      <td>1000_388</td>\n",
       "      <td>1000</td>\n",
       "      <td>2018-12-31</td>\n",
       "      <td>2.20</td>\n",
       "    </tr>\n",
       "    <tr>\n",
       "      <th>6</th>\n",
       "      <td>1000_510</td>\n",
       "      <td>1000</td>\n",
       "      <td>2018-12-27</td>\n",
       "      <td>5.75</td>\n",
       "    </tr>\n",
       "    <tr>\n",
       "      <th>7</th>\n",
       "      <td>1000_521</td>\n",
       "      <td>1000</td>\n",
       "      <td>2018-12-28</td>\n",
       "      <td>14.18</td>\n",
       "    </tr>\n",
       "    <tr>\n",
       "      <th>8</th>\n",
       "      <td>1000_530</td>\n",
       "      <td>1000</td>\n",
       "      <td>2018-12-28</td>\n",
       "      <td>5.77</td>\n",
       "    </tr>\n",
       "    <tr>\n",
       "      <th>9</th>\n",
       "      <td>1000_544</td>\n",
       "      <td>1000</td>\n",
       "      <td>2018-12-26</td>\n",
       "      <td>4.40</td>\n",
       "    </tr>\n",
       "  </tbody>\n",
       "</table>\n",
       "</div>"
      ],
      "text/plain": [
       "         id  user_id   call_date  duration\n",
       "0   1000_93     1000  2018-12-27      8.52\n",
       "1  1000_145     1000  2018-12-27     13.66\n",
       "2  1000_247     1000  2018-12-27     14.48\n",
       "3  1000_309     1000  2018-12-28      5.76\n",
       "4  1000_380     1000  2018-12-30      4.22\n",
       "5  1000_388     1000  2018-12-31      2.20\n",
       "6  1000_510     1000  2018-12-27      5.75\n",
       "7  1000_521     1000  2018-12-28     14.18\n",
       "8  1000_530     1000  2018-12-28      5.77\n",
       "9  1000_544     1000  2018-12-26      4.40"
      ]
     },
     "execution_count": 12,
     "metadata": {},
     "output_type": "execute_result"
    }
   ],
   "source": [
    "# imprimir una muestra de datos para las llamadas\n",
    "\n",
    "megaline_calls_df.head(10)"
   ]
  },
  {
   "cell_type": "code",
   "execution_count": 13,
   "metadata": {},
   "outputs": [
    {
     "name": "stdout",
     "output_type": "stream",
     "text": [
      "Filas con valores cero en la columna `duration`: 26834\n",
      "Porcentaje de valores cero en la columna 'duration': 19.48%\n"
     ]
    }
   ],
   "source": [
    "# calcular el porcentaje de valores cero en la columna `duration`\n",
    "\n",
    "zero_duration_count = megaline_calls_df[megaline_calls_df['duration']==0].shape[0]\n",
    "total_rows = megaline_calls_df.shape[0]\n",
    "percentage_zero_duration = (zero_duration_count / total_rows) * 100\n",
    "\n",
    "print('Filas con valores cero en la columna `duration`:', megaline_calls_df[megaline_calls_df['duration']==0].shape[0])\n",
    "print(f\"Porcentaje de valores cero en la columna 'duration': {percentage_zero_duration:.2f}%\")"
   ]
  },
  {
   "cell_type": "code",
   "execution_count": 14,
   "metadata": {
    "tags": []
   },
   "outputs": [
    {
     "data": {
      "text/html": [
       "<div>\n",
       "<style scoped>\n",
       "    .dataframe tbody tr th:only-of-type {\n",
       "        vertical-align: middle;\n",
       "    }\n",
       "\n",
       "    .dataframe tbody tr th {\n",
       "        vertical-align: top;\n",
       "    }\n",
       "\n",
       "    .dataframe thead th {\n",
       "        text-align: right;\n",
       "    }\n",
       "</style>\n",
       "<table border=\"1\" class=\"dataframe\">\n",
       "  <thead>\n",
       "    <tr style=\"text-align: right;\">\n",
       "      <th></th>\n",
       "      <th>user_id</th>\n",
       "      <th>duration</th>\n",
       "    </tr>\n",
       "  </thead>\n",
       "  <tbody>\n",
       "    <tr>\n",
       "      <th>count</th>\n",
       "      <td>110901.000000</td>\n",
       "      <td>110901.000000</td>\n",
       "    </tr>\n",
       "    <tr>\n",
       "      <th>mean</th>\n",
       "      <td>1247.511871</td>\n",
       "      <td>8.378196</td>\n",
       "    </tr>\n",
       "    <tr>\n",
       "      <th>std</th>\n",
       "      <td>139.475249</td>\n",
       "      <td>5.354567</td>\n",
       "    </tr>\n",
       "    <tr>\n",
       "      <th>min</th>\n",
       "      <td>1000.000000</td>\n",
       "      <td>0.010000</td>\n",
       "    </tr>\n",
       "    <tr>\n",
       "      <th>25%</th>\n",
       "      <td>1127.000000</td>\n",
       "      <td>4.150000</td>\n",
       "    </tr>\n",
       "    <tr>\n",
       "      <th>50%</th>\n",
       "      <td>1247.000000</td>\n",
       "      <td>7.710000</td>\n",
       "    </tr>\n",
       "    <tr>\n",
       "      <th>75%</th>\n",
       "      <td>1365.000000</td>\n",
       "      <td>11.820000</td>\n",
       "    </tr>\n",
       "    <tr>\n",
       "      <th>max</th>\n",
       "      <td>1499.000000</td>\n",
       "      <td>37.600000</td>\n",
       "    </tr>\n",
       "  </tbody>\n",
       "</table>\n",
       "</div>"
      ],
      "text/plain": [
       "             user_id       duration\n",
       "count  110901.000000  110901.000000\n",
       "mean     1247.511871       8.378196\n",
       "std       139.475249       5.354567\n",
       "min      1000.000000       0.010000\n",
       "25%      1127.000000       4.150000\n",
       "50%      1247.000000       7.710000\n",
       "75%      1365.000000      11.820000\n",
       "max      1499.000000      37.600000"
      ]
     },
     "execution_count": 14,
     "metadata": {},
     "output_type": "execute_result"
    }
   ],
   "source": [
    "# mostrar el resumen estádistico sobre el DataFrame de las llamadas sin contar los valores cero\n",
    "\n",
    "megaline_calls_df_nonzero = megaline_calls_df[megaline_calls_df['duration'] != 0]\n",
    "megaline_calls_df_nonzero.describe()"
   ]
  },
  {
   "cell_type": "code",
   "execution_count": 15,
   "metadata": {},
   "outputs": [
    {
     "data": {
      "image/png": "[encoded data removed]",
      "text/plain": [
       "<Figure size 640x480 with 1 Axes>"
      ]
     },
     "metadata": {},
     "output_type": "display_data"
    }
   ],
   "source": [
    "# mostrar la diferencia entre el DataFrame original y la versión sin valores cero en la columna `duration`\n",
    "\n",
    "plt.hist(megaline_calls_df['duration'], bins=30, alpha=0.8, label='Original')\n",
    "plt.hist(megaline_calls_df_nonzero['duration'], bins=30, alpha=0.5, label='No cero')\n",
    "\n",
    "plt.xlabel('Duración de llamada')\n",
    "plt.ylabel('Frecuencia')\n",
    "plt.title('Histograma de duraciones de llamadas')\n",
    "plt.legend()\n",
    "plt.show()"
   ]
  },
  {
   "cell_type": "markdown",
   "metadata": {},
   "source": [
    "__Evaluación:__\n",
    "\n",
    " - Hay __137735__ filas en `megaline_calls_df`\n",
    " - Hay __26834__ entradas con __valores cero__ en la columna `duration`\n",
    " - Estos valores representan el __19.48%__ de los datos \n",
    " - Los valores cero se refieren a __llamadas perdidas__\n",
    " - __Agregamos una columna__ `lost_call` donde los valores son __True__ si se trata de una llamada perdida y __False__ si la duración es diferente de cero\n",
    " - Vamos a __convertir__ los valores en `call_date` a datetime\n",
    " - __Agregamos__ las columnas `month` y `year` al DataFrame\n",
    " - Vamos a mostrar __frecuencia y distribución__ de las llamadas en el tiempo"
   ]
  },
  {
   "cell_type": "markdown",
   "metadata": {},
   "source": [
    " "
   ]
  },
  {
   "cell_type": "code",
   "execution_count": 16,
   "metadata": {},
   "outputs": [
    {
     "name": "stdout",
     "output_type": "stream",
     "text": [
      "2   call_date    137735 non-null     datetime64[ns]\n"
     ]
    }
   ],
   "source": [
    "# convertir la columna `call_date` a datetime\n",
    "\n",
    "megaline_calls_df['call_date'] = pd.to_datetime(megaline_calls_df['call_date'])\n",
    "print('2   call_date    137735 non-null    ', megaline_calls_df['call_date'].dtypes)"
   ]
  },
  {
   "cell_type": "code",
   "execution_count": 17,
   "metadata": {},
   "outputs": [
    {
     "data": {
      "text/plain": [
       "False    110901\n",
       "True      26834\n",
       "Name: lost_call, dtype: int64"
      ]
     },
     "execution_count": 17,
     "metadata": {},
     "output_type": "execute_result"
    }
   ],
   "source": [
    "# agregar una columna `lost_call` que contendrá True para llamadas perdidas y False si la duración es diferente de cero \n",
    "\n",
    "megaline_calls_df['lost_call'] = megaline_calls_df['duration'] == 0\n",
    "megaline_calls_df['lost_call'].value_counts()"
   ]
  },
  {
   "cell_type": "code",
   "execution_count": 18,
   "metadata": {},
   "outputs": [
    {
     "data": {
      "text/html": [
       "<div>\n",
       "<style scoped>\n",
       "    .dataframe tbody tr th:only-of-type {\n",
       "        vertical-align: middle;\n",
       "    }\n",
       "\n",
       "    .dataframe tbody tr th {\n",
       "        vertical-align: top;\n",
       "    }\n",
       "\n",
       "    .dataframe thead th {\n",
       "        text-align: right;\n",
       "    }\n",
       "</style>\n",
       "<table border=\"1\" class=\"dataframe\">\n",
       "  <thead>\n",
       "    <tr style=\"text-align: right;\">\n",
       "      <th></th>\n",
       "      <th>id</th>\n",
       "      <th>user_id</th>\n",
       "      <th>call_date</th>\n",
       "      <th>duration</th>\n",
       "      <th>lost_call</th>\n",
       "      <th>month</th>\n",
       "      <th>year</th>\n",
       "    </tr>\n",
       "  </thead>\n",
       "  <tbody>\n",
       "    <tr>\n",
       "      <th>0</th>\n",
       "      <td>1000_93</td>\n",
       "      <td>1000</td>\n",
       "      <td>2018-12-27</td>\n",
       "      <td>8.52</td>\n",
       "      <td>False</td>\n",
       "      <td>12</td>\n",
       "      <td>2018</td>\n",
       "    </tr>\n",
       "    <tr>\n",
       "      <th>1</th>\n",
       "      <td>1000_145</td>\n",
       "      <td>1000</td>\n",
       "      <td>2018-12-27</td>\n",
       "      <td>13.66</td>\n",
       "      <td>False</td>\n",
       "      <td>12</td>\n",
       "      <td>2018</td>\n",
       "    </tr>\n",
       "    <tr>\n",
       "      <th>2</th>\n",
       "      <td>1000_247</td>\n",
       "      <td>1000</td>\n",
       "      <td>2018-12-27</td>\n",
       "      <td>14.48</td>\n",
       "      <td>False</td>\n",
       "      <td>12</td>\n",
       "      <td>2018</td>\n",
       "    </tr>\n",
       "    <tr>\n",
       "      <th>3</th>\n",
       "      <td>1000_309</td>\n",
       "      <td>1000</td>\n",
       "      <td>2018-12-28</td>\n",
       "      <td>5.76</td>\n",
       "      <td>False</td>\n",
       "      <td>12</td>\n",
       "      <td>2018</td>\n",
       "    </tr>\n",
       "    <tr>\n",
       "      <th>4</th>\n",
       "      <td>1000_380</td>\n",
       "      <td>1000</td>\n",
       "      <td>2018-12-30</td>\n",
       "      <td>4.22</td>\n",
       "      <td>False</td>\n",
       "      <td>12</td>\n",
       "      <td>2018</td>\n",
       "    </tr>\n",
       "  </tbody>\n",
       "</table>\n",
       "</div>"
      ],
      "text/plain": [
       "         id  user_id  call_date  duration  lost_call  month  year\n",
       "0   1000_93     1000 2018-12-27      8.52      False     12  2018\n",
       "1  1000_145     1000 2018-12-27     13.66      False     12  2018\n",
       "2  1000_247     1000 2018-12-27     14.48      False     12  2018\n",
       "3  1000_309     1000 2018-12-28      5.76      False     12  2018\n",
       "4  1000_380     1000 2018-12-30      4.22      False     12  2018"
      ]
     },
     "execution_count": 18,
     "metadata": {},
     "output_type": "execute_result"
    }
   ],
   "source": [
    "# agregar columnas de mes y año\n",
    "\n",
    "megaline_calls_df['month'] = megaline_calls_df['call_date'].dt.month\n",
    "megaline_calls_df['year'] = megaline_calls_df['call_date'].dt.year\n",
    "megaline_calls_df.head()"
   ]
  },
  {
   "cell_type": "code",
   "execution_count": 19,
   "metadata": {},
   "outputs": [
    {
     "data": {
      "image/png": "[encoded data removed]",
      "text/plain": [
       "<Figure size 1200x800 with 2 Axes>"
      ]
     },
     "metadata": {},
     "output_type": "display_data"
    }
   ],
   "source": [
    "# mostrar frecuencia y distribución de las llamadas en el tiempo\n",
    "\n",
    "filtered_data = megaline_calls_df\n",
    "\n",
    "pivot_table = filtered_data.pivot_table(index=filtered_data['call_date'].dt.day_name(),\n",
    "                                       columns=filtered_data['call_date'].dt.month,\n",
    "                                       aggfunc='size')\n",
    "\n",
    "pivot_table.index = pd.CategoricalIndex(pivot_table.index,\n",
    "                                        categories=['Monday', 'Tuesday', 'Wednesday', 'Thursday', 'Friday', 'Saturday', 'Sunday'],\n",
    "                                        ordered=True)\n",
    "\n",
    "pivot_table = pivot_table.sort_index()\n",
    "\n",
    "plt.figure(figsize=(12, 8))\n",
    "sns.heatmap(pivot_table, cmap='YlGnBu')\n",
    "plt.title('Cantidad de llamadas por día de la semana y mes')\n",
    "plt.xlabel('Mes')\n",
    "plt.ylabel('Día')\n",
    "plt.show()"
   ]
  },
  {
   "cell_type": "markdown",
   "metadata": {},
   "source": [
    "## Mensajes"
   ]
  },
  {
   "cell_type": "code",
   "execution_count": 20,
   "metadata": {
    "tags": []
   },
   "outputs": [
    {
     "name": "stdout",
     "output_type": "stream",
     "text": [
      "<class 'pandas.core.frame.DataFrame'>\n",
      "RangeIndex: 76051 entries, 0 to 76050\n",
      "Data columns (total 3 columns):\n",
      " #   Column        Non-Null Count  Dtype \n",
      "---  ------        --------------  ----- \n",
      " 0   id            76051 non-null  object\n",
      " 1   user_id       76051 non-null  int64 \n",
      " 2   message_date  76051 non-null  object\n",
      "dtypes: int64(1), object(2)\n",
      "memory usage: 1.7+ MB\n"
     ]
    }
   ],
   "source": [
    "# mostrar la información general sobre el DataFrame de los mensajes\n",
    "\n",
    "megaline_messages_df.info()"
   ]
  },
  {
   "cell_type": "code",
   "execution_count": 21,
   "metadata": {},
   "outputs": [
    {
     "data": {
      "text/html": [
       "<div>\n",
       "<style scoped>\n",
       "    .dataframe tbody tr th:only-of-type {\n",
       "        vertical-align: middle;\n",
       "    }\n",
       "\n",
       "    .dataframe tbody tr th {\n",
       "        vertical-align: top;\n",
       "    }\n",
       "\n",
       "    .dataframe thead th {\n",
       "        text-align: right;\n",
       "    }\n",
       "</style>\n",
       "<table border=\"1\" class=\"dataframe\">\n",
       "  <thead>\n",
       "    <tr style=\"text-align: right;\">\n",
       "      <th></th>\n",
       "      <th>id</th>\n",
       "      <th>user_id</th>\n",
       "      <th>message_date</th>\n",
       "    </tr>\n",
       "  </thead>\n",
       "  <tbody>\n",
       "    <tr>\n",
       "      <th>0</th>\n",
       "      <td>1000_125</td>\n",
       "      <td>1000</td>\n",
       "      <td>2018-12-27</td>\n",
       "    </tr>\n",
       "    <tr>\n",
       "      <th>1</th>\n",
       "      <td>1000_160</td>\n",
       "      <td>1000</td>\n",
       "      <td>2018-12-31</td>\n",
       "    </tr>\n",
       "    <tr>\n",
       "      <th>2</th>\n",
       "      <td>1000_223</td>\n",
       "      <td>1000</td>\n",
       "      <td>2018-12-31</td>\n",
       "    </tr>\n",
       "    <tr>\n",
       "      <th>3</th>\n",
       "      <td>1000_251</td>\n",
       "      <td>1000</td>\n",
       "      <td>2018-12-27</td>\n",
       "    </tr>\n",
       "    <tr>\n",
       "      <th>4</th>\n",
       "      <td>1000_255</td>\n",
       "      <td>1000</td>\n",
       "      <td>2018-12-26</td>\n",
       "    </tr>\n",
       "  </tbody>\n",
       "</table>\n",
       "</div>"
      ],
      "text/plain": [
       "         id  user_id message_date\n",
       "0  1000_125     1000   2018-12-27\n",
       "1  1000_160     1000   2018-12-31\n",
       "2  1000_223     1000   2018-12-31\n",
       "3  1000_251     1000   2018-12-27\n",
       "4  1000_255     1000   2018-12-26"
      ]
     },
     "execution_count": 21,
     "metadata": {},
     "output_type": "execute_result"
    }
   ],
   "source": [
    "# imprimir una muestra de datos para los mensajes\n",
    "\n",
    "megaline_messages_df.head()"
   ]
  },
  {
   "cell_type": "markdown",
   "metadata": {},
   "source": [
    "__Evaluación:__\n",
    "\n",
    " - Encontramos __76051__ entradas en el DataFrame\n",
    " - Vamos a __convertir__ los valores en `message_date` en fechas\n",
    " - __Agregamos__ columnas de mes y año a `megaline_messages_df`\n",
    " - Vamos a mostrar __frecuencia y distribución__ de los mensajes en el tiempo"
   ]
  },
  {
   "cell_type": "code",
   "execution_count": 22,
   "metadata": {},
   "outputs": [
    {
     "name": "stdout",
     "output_type": "stream",
     "text": [
      "2   message_date    76051 non-null     datetime64[ns]\n"
     ]
    }
   ],
   "source": [
    "# convertir la columna `message_date` a datetime\n",
    "\n",
    "megaline_messages_df['message_date'] = pd.to_datetime(megaline_messages_df['message_date'])\n",
    "print('2   message_date    76051 non-null    ', megaline_messages_df['message_date'].dtypes)"
   ]
  },
  {
   "cell_type": "code",
   "execution_count": 23,
   "metadata": {},
   "outputs": [],
   "source": [
    "# agregar columnas de mes y año a megaline_messages_df\n",
    "\n",
    "megaline_messages_df['month'] = megaline_messages_df['message_date'].dt.month\n",
    "megaline_messages_df['year'] = megaline_messages_df['message_date'].dt.year"
   ]
  },
  {
   "cell_type": "code",
   "execution_count": 24,
   "metadata": {},
   "outputs": [
    {
     "data": {
      "image/png": "[encoded data removed]",
      "text/plain": [
       "<Figure size 1200x800 with 2 Axes>"
      ]
     },
     "metadata": {},
     "output_type": "display_data"
    }
   ],
   "source": [
    "# mostrar frecuencia y distribución de los mensajes en el tiempo\n",
    "\n",
    "filtered_data = megaline_messages_df\n",
    "pivot_table = filtered_data.pivot_table(index=filtered_data['message_date'].dt.day_name(), \n",
    "                                       columns=filtered_data['message_date'].dt.month, \n",
    "                                       aggfunc='size')\n",
    "\n",
    "pivot_table.index = pd.CategoricalIndex(pivot_table.index, \n",
    "                                        categories=['Monday', 'Tuesday', 'Wednesday', 'Thursday', 'Friday', 'Saturday', 'Sunday'], \n",
    "                                        ordered=True)\n",
    "\n",
    "pivot_table = pivot_table.sort_index()\n",
    "\n",
    "plt.figure(figsize=(12, 8))\n",
    "sns.heatmap(pivot_table, cmap='YlGnBu')\n",
    "plt.title('Cantidad de mensajes por día de la semana y mes')\n",
    "plt.xlabel('Mes')\n",
    "plt.ylabel('Día')\n",
    "plt.show()"
   ]
  },
  {
   "cell_type": "markdown",
   "metadata": {},
   "source": [
    "## Internet"
   ]
  },
  {
   "cell_type": "code",
   "execution_count": 25,
   "metadata": {},
   "outputs": [
    {
     "name": "stdout",
     "output_type": "stream",
     "text": [
      "<class 'pandas.core.frame.DataFrame'>\n",
      "RangeIndex: 104825 entries, 0 to 104824\n",
      "Data columns (total 4 columns):\n",
      " #   Column        Non-Null Count   Dtype  \n",
      "---  ------        --------------   -----  \n",
      " 0   id            104825 non-null  object \n",
      " 1   user_id       104825 non-null  int64  \n",
      " 2   session_date  104825 non-null  object \n",
      " 3   mb_used       104825 non-null  float64\n",
      "dtypes: float64(1), int64(1), object(2)\n",
      "memory usage: 3.2+ MB\n",
      "-------------------------------------------------------------\n"
     ]
    },
    {
     "data": {
      "text/plain": [
       "'Resumen estádistico de los valores en la columna `mb_used`:'"
      ]
     },
     "metadata": {},
     "output_type": "display_data"
    },
    {
     "data": {
      "text/plain": [
       "count    104825.000000\n",
       "mean        366.713701\n",
       "std         277.170542\n",
       "min           0.000000\n",
       "25%         136.080000\n",
       "50%         343.980000\n",
       "75%         554.610000\n",
       "max        1693.470000\n",
       "Name: mb_used, dtype: float64"
      ]
     },
     "metadata": {},
     "output_type": "display_data"
    }
   ],
   "source": [
    "# mostrar la información/resumen general sobre el DataFrame de internet\n",
    "\n",
    "megaline_internet_df.info()\n",
    "print('-'*61)\n",
    "display('Resumen estádistico de los valores en la columna `mb_used`:', megaline_internet_df['mb_used'].describe())"
   ]
  },
  {
   "cell_type": "code",
   "execution_count": 26,
   "metadata": {},
   "outputs": [
    {
     "data": {
      "text/html": [
       "<div>\n",
       "<style scoped>\n",
       "    .dataframe tbody tr th:only-of-type {\n",
       "        vertical-align: middle;\n",
       "    }\n",
       "\n",
       "    .dataframe tbody tr th {\n",
       "        vertical-align: top;\n",
       "    }\n",
       "\n",
       "    .dataframe thead th {\n",
       "        text-align: right;\n",
       "    }\n",
       "</style>\n",
       "<table border=\"1\" class=\"dataframe\">\n",
       "  <thead>\n",
       "    <tr style=\"text-align: right;\">\n",
       "      <th></th>\n",
       "      <th>id</th>\n",
       "      <th>user_id</th>\n",
       "      <th>session_date</th>\n",
       "      <th>mb_used</th>\n",
       "    </tr>\n",
       "  </thead>\n",
       "  <tbody>\n",
       "    <tr>\n",
       "      <th>0</th>\n",
       "      <td>1000_13</td>\n",
       "      <td>1000</td>\n",
       "      <td>2018-12-29</td>\n",
       "      <td>89.86</td>\n",
       "    </tr>\n",
       "    <tr>\n",
       "      <th>1</th>\n",
       "      <td>1000_204</td>\n",
       "      <td>1000</td>\n",
       "      <td>2018-12-31</td>\n",
       "      <td>0.00</td>\n",
       "    </tr>\n",
       "    <tr>\n",
       "      <th>2</th>\n",
       "      <td>1000_379</td>\n",
       "      <td>1000</td>\n",
       "      <td>2018-12-28</td>\n",
       "      <td>660.40</td>\n",
       "    </tr>\n",
       "    <tr>\n",
       "      <th>3</th>\n",
       "      <td>1000_413</td>\n",
       "      <td>1000</td>\n",
       "      <td>2018-12-26</td>\n",
       "      <td>270.99</td>\n",
       "    </tr>\n",
       "    <tr>\n",
       "      <th>4</th>\n",
       "      <td>1000_442</td>\n",
       "      <td>1000</td>\n",
       "      <td>2018-12-27</td>\n",
       "      <td>880.22</td>\n",
       "    </tr>\n",
       "  </tbody>\n",
       "</table>\n",
       "</div>"
      ],
      "text/plain": [
       "         id  user_id session_date  mb_used\n",
       "0   1000_13     1000   2018-12-29    89.86\n",
       "1  1000_204     1000   2018-12-31     0.00\n",
       "2  1000_379     1000   2018-12-28   660.40\n",
       "3  1000_413     1000   2018-12-26   270.99\n",
       "4  1000_442     1000   2018-12-27   880.22"
      ]
     },
     "execution_count": 26,
     "metadata": {},
     "output_type": "execute_result"
    }
   ],
   "source": [
    "# imprimir una muestra de datos para el tráfico de internet\n",
    "\n",
    "megaline_internet_df.head()"
   ]
  },
  {
   "cell_type": "markdown",
   "metadata": {},
   "source": [
    "__Evaluación:__\n",
    "\n",
    " - Encontramos __104825__ entradas en el DataFrame\n",
    " - Vamos a __convertir__ los valores en `session_date` en fechas\n",
    " - __Agregamos__ columnas de mes y año a `megaline_internet_df`\n",
    " - Vamos a mostrar __frecuencia y distribución__ de MB consumidos en el tiempo"
   ]
  },
  {
   "cell_type": "code",
   "execution_count": 27,
   "metadata": {},
   "outputs": [
    {
     "name": "stdout",
     "output_type": "stream",
     "text": [
      "2   session_date    104825 non-null     datetime64[ns]\n"
     ]
    }
   ],
   "source": [
    "# convertir la columna `session_date` a datetime\n",
    "\n",
    "megaline_internet_df['session_date'] = pd.to_datetime(megaline_internet_df['session_date'])\n",
    "print('2   session_date    104825 non-null    ', megaline_internet_df['session_date'].dtypes)"
   ]
  },
  {
   "cell_type": "code",
   "execution_count": 28,
   "metadata": {},
   "outputs": [],
   "source": [
    "# agregar columnas de mes y año\n",
    "\n",
    "megaline_internet_df['month'] = megaline_internet_df['session_date'].dt.month\n",
    "megaline_internet_df['year'] = megaline_internet_df['session_date'].dt.year"
   ]
  },
  {
   "cell_type": "code",
   "execution_count": 29,
   "metadata": {},
   "outputs": [
    {
     "data": {
      "image/png": "[encoded data removed]",
      "text/plain": [
       "<Figure size 1200x800 with 2 Axes>"
      ]
     },
     "metadata": {},
     "output_type": "display_data"
    }
   ],
   "source": [
    "# mostrar frecuencia y distribución de MB consumidos en el tiempo\n",
    "\n",
    "filtered_data = megaline_internet_df\n",
    "pivot_table = filtered_data.pivot_table(index=filtered_data['session_date'].dt.day_name(), \n",
    "                                       columns=filtered_data['session_date'].dt.month, \n",
    "                                       values='mb_used', aggfunc='sum')\n",
    "\n",
    "pivot_table.index = pd.CategoricalIndex(pivot_table.index, \n",
    "                                        categories=['Monday', 'Tuesday', 'Wednesday', 'Thursday', 'Friday', 'Saturday', 'Sunday'], \n",
    "                                        ordered=True)\n",
    "\n",
    "pivot_table = pivot_table.sort_index()\n",
    "\n",
    "plt.figure(figsize=(12, 8))\n",
    "sns.heatmap(pivot_table, cmap='YlGnBu')\n",
    "plt.title('Megabytes utilizados por día de la semana y mes')\n",
    "plt.xlabel('Mes')\n",
    "plt.ylabel('Día')\n",
    "plt.show()"
   ]
  },
  {
   "cell_type": "markdown",
   "metadata": {},
   "source": [
    "# Agregar datos por usuario"
   ]
  },
  {
   "cell_type": "code",
   "execution_count": 30,
   "metadata": {},
   "outputs": [
    {
     "data": {
      "text/html": [
       "<div>\n",
       "<style scoped>\n",
       "    .dataframe tbody tr th:only-of-type {\n",
       "        vertical-align: middle;\n",
       "    }\n",
       "\n",
       "    .dataframe tbody tr th {\n",
       "        vertical-align: top;\n",
       "    }\n",
       "\n",
       "    .dataframe thead th {\n",
       "        text-align: right;\n",
       "    }\n",
       "</style>\n",
       "<table border=\"1\" class=\"dataframe\">\n",
       "  <thead>\n",
       "    <tr style=\"text-align: right;\">\n",
       "      <th></th>\n",
       "      <th>user_id</th>\n",
       "      <th>month</th>\n",
       "      <th>calls_made</th>\n",
       "    </tr>\n",
       "  </thead>\n",
       "  <tbody>\n",
       "    <tr>\n",
       "      <th>0</th>\n",
       "      <td>1000</td>\n",
       "      <td>12</td>\n",
       "      <td>16</td>\n",
       "    </tr>\n",
       "    <tr>\n",
       "      <th>1</th>\n",
       "      <td>1001</td>\n",
       "      <td>8</td>\n",
       "      <td>27</td>\n",
       "    </tr>\n",
       "    <tr>\n",
       "      <th>2</th>\n",
       "      <td>1001</td>\n",
       "      <td>9</td>\n",
       "      <td>49</td>\n",
       "    </tr>\n",
       "    <tr>\n",
       "      <th>3</th>\n",
       "      <td>1001</td>\n",
       "      <td>10</td>\n",
       "      <td>65</td>\n",
       "    </tr>\n",
       "    <tr>\n",
       "      <th>4</th>\n",
       "      <td>1001</td>\n",
       "      <td>11</td>\n",
       "      <td>64</td>\n",
       "    </tr>\n",
       "  </tbody>\n",
       "</table>\n",
       "</div>"
      ],
      "text/plain": [
       "   user_id  month  calls_made\n",
       "0     1000     12          16\n",
       "1     1001      8          27\n",
       "2     1001      9          49\n",
       "3     1001     10          65\n",
       "4     1001     11          64"
      ]
     },
     "execution_count": 30,
     "metadata": {},
     "output_type": "execute_result"
    }
   ],
   "source": [
    "# calcular el número de llamadas hechas por cada usuario por mes\n",
    "\n",
    "monthly_calls_per_user = megaline_calls_df.groupby(['user_id', 'month'])['id'].count().reset_index()\n",
    "monthly_calls_per_user.rename(columns={'id': 'calls_made'}, inplace=True)\n",
    "\n",
    "monthly_calls_per_user.head()"
   ]
  },
  {
   "cell_type": "code",
   "execution_count": 31,
   "metadata": {},
   "outputs": [
    {
     "data": {
      "text/html": [
       "<div>\n",
       "<style scoped>\n",
       "    .dataframe tbody tr th:only-of-type {\n",
       "        vertical-align: middle;\n",
       "    }\n",
       "\n",
       "    .dataframe tbody tr th {\n",
       "        vertical-align: top;\n",
       "    }\n",
       "\n",
       "    .dataframe thead th {\n",
       "        text-align: right;\n",
       "    }\n",
       "</style>\n",
       "<table border=\"1\" class=\"dataframe\">\n",
       "  <thead>\n",
       "    <tr style=\"text-align: right;\">\n",
       "      <th></th>\n",
       "      <th>user_id</th>\n",
       "      <th>month</th>\n",
       "      <th>monthly_minutes</th>\n",
       "    </tr>\n",
       "  </thead>\n",
       "  <tbody>\n",
       "    <tr>\n",
       "      <th>0</th>\n",
       "      <td>1000</td>\n",
       "      <td>12</td>\n",
       "      <td>116.83</td>\n",
       "    </tr>\n",
       "    <tr>\n",
       "      <th>1</th>\n",
       "      <td>1001</td>\n",
       "      <td>8</td>\n",
       "      <td>171.14</td>\n",
       "    </tr>\n",
       "    <tr>\n",
       "      <th>2</th>\n",
       "      <td>1001</td>\n",
       "      <td>9</td>\n",
       "      <td>297.69</td>\n",
       "    </tr>\n",
       "    <tr>\n",
       "      <th>3</th>\n",
       "      <td>1001</td>\n",
       "      <td>10</td>\n",
       "      <td>374.11</td>\n",
       "    </tr>\n",
       "    <tr>\n",
       "      <th>4</th>\n",
       "      <td>1001</td>\n",
       "      <td>11</td>\n",
       "      <td>404.59</td>\n",
       "    </tr>\n",
       "  </tbody>\n",
       "</table>\n",
       "</div>"
      ],
      "text/plain": [
       "   user_id  month  monthly_minutes\n",
       "0     1000     12           116.83\n",
       "1     1001      8           171.14\n",
       "2     1001      9           297.69\n",
       "3     1001     10           374.11\n",
       "4     1001     11           404.59"
      ]
     },
     "execution_count": 31,
     "metadata": {},
     "output_type": "execute_result"
    }
   ],
   "source": [
    "# calcular la cantidad de minutos que usó cada usuario por mes\n",
    "\n",
    "monthly_minutes_per_user = megaline_calls_df.groupby(['user_id','month'])['duration'].sum().reset_index()\n",
    "monthly_minutes_per_user.rename(columns={'duration': 'monthly_minutes'}, inplace=True)\n",
    "\n",
    "monthly_minutes_per_user.head()"
   ]
  },
  {
   "cell_type": "code",
   "execution_count": 32,
   "metadata": {},
   "outputs": [
    {
     "data": {
      "text/html": [
       "<div>\n",
       "<style scoped>\n",
       "    .dataframe tbody tr th:only-of-type {\n",
       "        vertical-align: middle;\n",
       "    }\n",
       "\n",
       "    .dataframe tbody tr th {\n",
       "        vertical-align: top;\n",
       "    }\n",
       "\n",
       "    .dataframe thead th {\n",
       "        text-align: right;\n",
       "    }\n",
       "</style>\n",
       "<table border=\"1\" class=\"dataframe\">\n",
       "  <thead>\n",
       "    <tr style=\"text-align: right;\">\n",
       "      <th></th>\n",
       "      <th>user_id</th>\n",
       "      <th>month</th>\n",
       "      <th>messages_sent</th>\n",
       "    </tr>\n",
       "  </thead>\n",
       "  <tbody>\n",
       "    <tr>\n",
       "      <th>0</th>\n",
       "      <td>1000</td>\n",
       "      <td>12</td>\n",
       "      <td>11</td>\n",
       "    </tr>\n",
       "    <tr>\n",
       "      <th>1</th>\n",
       "      <td>1001</td>\n",
       "      <td>8</td>\n",
       "      <td>30</td>\n",
       "    </tr>\n",
       "    <tr>\n",
       "      <th>2</th>\n",
       "      <td>1001</td>\n",
       "      <td>9</td>\n",
       "      <td>44</td>\n",
       "    </tr>\n",
       "    <tr>\n",
       "      <th>3</th>\n",
       "      <td>1001</td>\n",
       "      <td>10</td>\n",
       "      <td>53</td>\n",
       "    </tr>\n",
       "    <tr>\n",
       "      <th>4</th>\n",
       "      <td>1001</td>\n",
       "      <td>11</td>\n",
       "      <td>36</td>\n",
       "    </tr>\n",
       "  </tbody>\n",
       "</table>\n",
       "</div>"
      ],
      "text/plain": [
       "   user_id  month  messages_sent\n",
       "0     1000     12             11\n",
       "1     1001      8             30\n",
       "2     1001      9             44\n",
       "3     1001     10             53\n",
       "4     1001     11             36"
      ]
     },
     "execution_count": 32,
     "metadata": {},
     "output_type": "execute_result"
    }
   ],
   "source": [
    "# calcular el número de mensajes enviados por cada usuario por mes\n",
    "\n",
    "monthly_messages_per_user = megaline_messages_df.groupby(['user_id','month'])['id'].count().reset_index()\n",
    "monthly_messages_per_user.rename(columns={'id': 'messages_sent'}, inplace=True)\n",
    "\n",
    "monthly_messages_per_user.head()"
   ]
  },
  {
   "cell_type": "code",
   "execution_count": 33,
   "metadata": {},
   "outputs": [
    {
     "data": {
      "text/html": [
       "<div>\n",
       "<style scoped>\n",
       "    .dataframe tbody tr th:only-of-type {\n",
       "        vertical-align: middle;\n",
       "    }\n",
       "\n",
       "    .dataframe tbody tr th {\n",
       "        vertical-align: top;\n",
       "    }\n",
       "\n",
       "    .dataframe thead th {\n",
       "        text-align: right;\n",
       "    }\n",
       "</style>\n",
       "<table border=\"1\" class=\"dataframe\">\n",
       "  <thead>\n",
       "    <tr style=\"text-align: right;\">\n",
       "      <th></th>\n",
       "      <th>user_id</th>\n",
       "      <th>month</th>\n",
       "      <th>mb_used</th>\n",
       "    </tr>\n",
       "  </thead>\n",
       "  <tbody>\n",
       "    <tr>\n",
       "      <th>0</th>\n",
       "      <td>1000</td>\n",
       "      <td>12</td>\n",
       "      <td>1901.47</td>\n",
       "    </tr>\n",
       "    <tr>\n",
       "      <th>1</th>\n",
       "      <td>1001</td>\n",
       "      <td>8</td>\n",
       "      <td>6919.15</td>\n",
       "    </tr>\n",
       "    <tr>\n",
       "      <th>2</th>\n",
       "      <td>1001</td>\n",
       "      <td>9</td>\n",
       "      <td>13314.82</td>\n",
       "    </tr>\n",
       "    <tr>\n",
       "      <th>3</th>\n",
       "      <td>1001</td>\n",
       "      <td>10</td>\n",
       "      <td>22330.49</td>\n",
       "    </tr>\n",
       "    <tr>\n",
       "      <th>4</th>\n",
       "      <td>1001</td>\n",
       "      <td>11</td>\n",
       "      <td>18504.30</td>\n",
       "    </tr>\n",
       "  </tbody>\n",
       "</table>\n",
       "</div>"
      ],
      "text/plain": [
       "   user_id  month   mb_used\n",
       "0     1000     12   1901.47\n",
       "1     1001      8   6919.15\n",
       "2     1001      9  13314.82\n",
       "3     1001     10  22330.49\n",
       "4     1001     11  18504.30"
      ]
     },
     "execution_count": 33,
     "metadata": {},
     "output_type": "execute_result"
    }
   ],
   "source": [
    "# calcular el volumen del tráfico de internet usado por cada usuario por mes\n",
    "\n",
    "monthly_mb_per_user = megaline_internet_df.groupby(['user_id', 'month'])['mb_used'].sum().reset_index()\n",
    "\n",
    "monthly_mb_per_user.head()"
   ]
  },
  {
   "cell_type": "code",
   "execution_count": 34,
   "metadata": {},
   "outputs": [
    {
     "data": {
      "text/html": [
       "<div>\n",
       "<style scoped>\n",
       "    .dataframe tbody tr th:only-of-type {\n",
       "        vertical-align: middle;\n",
       "    }\n",
       "\n",
       "    .dataframe tbody tr th {\n",
       "        vertical-align: top;\n",
       "    }\n",
       "\n",
       "    .dataframe thead th {\n",
       "        text-align: right;\n",
       "    }\n",
       "</style>\n",
       "<table border=\"1\" class=\"dataframe\">\n",
       "  <thead>\n",
       "    <tr style=\"text-align: right;\">\n",
       "      <th></th>\n",
       "      <th>user_id</th>\n",
       "      <th>month</th>\n",
       "      <th>mb_used</th>\n",
       "      <th>messages_sent</th>\n",
       "      <th>monthly_minutes</th>\n",
       "      <th>calls_made</th>\n",
       "    </tr>\n",
       "  </thead>\n",
       "  <tbody>\n",
       "    <tr>\n",
       "      <th>0</th>\n",
       "      <td>1000</td>\n",
       "      <td>12</td>\n",
       "      <td>1901.47</td>\n",
       "      <td>11.0</td>\n",
       "      <td>116.83</td>\n",
       "      <td>16.0</td>\n",
       "    </tr>\n",
       "    <tr>\n",
       "      <th>1</th>\n",
       "      <td>1001</td>\n",
       "      <td>8</td>\n",
       "      <td>6919.15</td>\n",
       "      <td>30.0</td>\n",
       "      <td>171.14</td>\n",
       "      <td>27.0</td>\n",
       "    </tr>\n",
       "    <tr>\n",
       "      <th>2</th>\n",
       "      <td>1001</td>\n",
       "      <td>9</td>\n",
       "      <td>13314.82</td>\n",
       "      <td>44.0</td>\n",
       "      <td>297.69</td>\n",
       "      <td>49.0</td>\n",
       "    </tr>\n",
       "    <tr>\n",
       "      <th>3</th>\n",
       "      <td>1001</td>\n",
       "      <td>10</td>\n",
       "      <td>22330.49</td>\n",
       "      <td>53.0</td>\n",
       "      <td>374.11</td>\n",
       "      <td>65.0</td>\n",
       "    </tr>\n",
       "    <tr>\n",
       "      <th>4</th>\n",
       "      <td>1001</td>\n",
       "      <td>11</td>\n",
       "      <td>18504.30</td>\n",
       "      <td>36.0</td>\n",
       "      <td>404.59</td>\n",
       "      <td>64.0</td>\n",
       "    </tr>\n",
       "    <tr>\n",
       "      <th>...</th>\n",
       "      <td>...</td>\n",
       "      <td>...</td>\n",
       "      <td>...</td>\n",
       "      <td>...</td>\n",
       "      <td>...</td>\n",
       "      <td>...</td>\n",
       "    </tr>\n",
       "    <tr>\n",
       "      <th>2288</th>\n",
       "      <td>1470</td>\n",
       "      <td>12</td>\n",
       "      <td>0.00</td>\n",
       "      <td>153.0</td>\n",
       "      <td>560.44</td>\n",
       "      <td>78.0</td>\n",
       "    </tr>\n",
       "    <tr>\n",
       "      <th>2289</th>\n",
       "      <td>1482</td>\n",
       "      <td>10</td>\n",
       "      <td>0.00</td>\n",
       "      <td>2.0</td>\n",
       "      <td>0.00</td>\n",
       "      <td>0.0</td>\n",
       "    </tr>\n",
       "    <tr>\n",
       "      <th>2290</th>\n",
       "      <td>1484</td>\n",
       "      <td>11</td>\n",
       "      <td>0.00</td>\n",
       "      <td>1.0</td>\n",
       "      <td>37.50</td>\n",
       "      <td>2.0</td>\n",
       "    </tr>\n",
       "    <tr>\n",
       "      <th>2291</th>\n",
       "      <td>1491</td>\n",
       "      <td>4</td>\n",
       "      <td>0.00</td>\n",
       "      <td>6.0</td>\n",
       "      <td>40.45</td>\n",
       "      <td>8.0</td>\n",
       "    </tr>\n",
       "    <tr>\n",
       "      <th>2292</th>\n",
       "      <td>1044</td>\n",
       "      <td>8</td>\n",
       "      <td>0.00</td>\n",
       "      <td>0.0</td>\n",
       "      <td>12.45</td>\n",
       "      <td>1.0</td>\n",
       "    </tr>\n",
       "  </tbody>\n",
       "</table>\n",
       "<p>2293 rows × 6 columns</p>\n",
       "</div>"
      ],
      "text/plain": [
       "      user_id  month   mb_used  messages_sent  monthly_minutes  calls_made\n",
       "0        1000     12   1901.47           11.0           116.83        16.0\n",
       "1        1001      8   6919.15           30.0           171.14        27.0\n",
       "2        1001      9  13314.82           44.0           297.69        49.0\n",
       "3        1001     10  22330.49           53.0           374.11        65.0\n",
       "4        1001     11  18504.30           36.0           404.59        64.0\n",
       "...       ...    ...       ...            ...              ...         ...\n",
       "2288     1470     12      0.00          153.0           560.44        78.0\n",
       "2289     1482     10      0.00            2.0             0.00         0.0\n",
       "2290     1484     11      0.00            1.0            37.50         2.0\n",
       "2291     1491      4      0.00            6.0            40.45         8.0\n",
       "2292     1044      8      0.00            0.0            12.45         1.0\n",
       "\n",
       "[2293 rows x 6 columns]"
      ]
     },
     "execution_count": 34,
     "metadata": {},
     "output_type": "execute_result"
    }
   ],
   "source": [
    "# combinar los datos para las llamadas, minutos, mensajes e internet con base en el `user_id` y el mes\n",
    "\n",
    "combined_data = monthly_mb_per_user.merge(monthly_messages_per_user, on=['user_id', 'month'], how='outer') \n",
    "combined_data = combined_data.merge(monthly_minutes_per_user, on=['user_id', 'month'], how='outer')\n",
    "combined_data = combined_data.merge(monthly_calls_per_user, on=['user_id', 'month'], how='outer')\n",
    "\n",
    "combined_data = combined_data.fillna(0)\n",
    "\n",
    "combined_data"
   ]
  },
  {
   "cell_type": "code",
   "execution_count": 35,
   "metadata": {},
   "outputs": [
    {
     "data": {
      "text/html": [
       "<div>\n",
       "<style scoped>\n",
       "    .dataframe tbody tr th:only-of-type {\n",
       "        vertical-align: middle;\n",
       "    }\n",
       "\n",
       "    .dataframe tbody tr th {\n",
       "        vertical-align: top;\n",
       "    }\n",
       "\n",
       "    .dataframe thead th {\n",
       "        text-align: right;\n",
       "    }\n",
       "</style>\n",
       "<table border=\"1\" class=\"dataframe\">\n",
       "  <thead>\n",
       "    <tr style=\"text-align: right;\">\n",
       "      <th></th>\n",
       "      <th>user_id</th>\n",
       "      <th>month</th>\n",
       "      <th>mb_used</th>\n",
       "      <th>messages_sent</th>\n",
       "      <th>monthly_minutes</th>\n",
       "      <th>calls_made</th>\n",
       "      <th>plan</th>\n",
       "    </tr>\n",
       "  </thead>\n",
       "  <tbody>\n",
       "    <tr>\n",
       "      <th>0</th>\n",
       "      <td>1000</td>\n",
       "      <td>12.0</td>\n",
       "      <td>1901.47</td>\n",
       "      <td>11.0</td>\n",
       "      <td>116.83</td>\n",
       "      <td>16.0</td>\n",
       "      <td>ultimate</td>\n",
       "    </tr>\n",
       "    <tr>\n",
       "      <th>1</th>\n",
       "      <td>1001</td>\n",
       "      <td>8.0</td>\n",
       "      <td>6919.15</td>\n",
       "      <td>30.0</td>\n",
       "      <td>171.14</td>\n",
       "      <td>27.0</td>\n",
       "      <td>surf</td>\n",
       "    </tr>\n",
       "    <tr>\n",
       "      <th>2</th>\n",
       "      <td>1001</td>\n",
       "      <td>9.0</td>\n",
       "      <td>13314.82</td>\n",
       "      <td>44.0</td>\n",
       "      <td>297.69</td>\n",
       "      <td>49.0</td>\n",
       "      <td>surf</td>\n",
       "    </tr>\n",
       "    <tr>\n",
       "      <th>3</th>\n",
       "      <td>1001</td>\n",
       "      <td>10.0</td>\n",
       "      <td>22330.49</td>\n",
       "      <td>53.0</td>\n",
       "      <td>374.11</td>\n",
       "      <td>65.0</td>\n",
       "      <td>surf</td>\n",
       "    </tr>\n",
       "    <tr>\n",
       "      <th>4</th>\n",
       "      <td>1001</td>\n",
       "      <td>11.0</td>\n",
       "      <td>18504.30</td>\n",
       "      <td>36.0</td>\n",
       "      <td>404.59</td>\n",
       "      <td>64.0</td>\n",
       "      <td>surf</td>\n",
       "    </tr>\n",
       "    <tr>\n",
       "      <th>...</th>\n",
       "      <td>...</td>\n",
       "      <td>...</td>\n",
       "      <td>...</td>\n",
       "      <td>...</td>\n",
       "      <td>...</td>\n",
       "      <td>...</td>\n",
       "      <td>...</td>\n",
       "    </tr>\n",
       "    <tr>\n",
       "      <th>2298</th>\n",
       "      <td>1307</td>\n",
       "      <td>0.0</td>\n",
       "      <td>0.00</td>\n",
       "      <td>0.0</td>\n",
       "      <td>0.00</td>\n",
       "      <td>0.0</td>\n",
       "      <td>surf</td>\n",
       "    </tr>\n",
       "    <tr>\n",
       "      <th>2299</th>\n",
       "      <td>1319</td>\n",
       "      <td>0.0</td>\n",
       "      <td>0.00</td>\n",
       "      <td>0.0</td>\n",
       "      <td>0.00</td>\n",
       "      <td>0.0</td>\n",
       "      <td>surf</td>\n",
       "    </tr>\n",
       "    <tr>\n",
       "      <th>2300</th>\n",
       "      <td>1378</td>\n",
       "      <td>0.0</td>\n",
       "      <td>0.00</td>\n",
       "      <td>0.0</td>\n",
       "      <td>0.00</td>\n",
       "      <td>0.0</td>\n",
       "      <td>surf</td>\n",
       "    </tr>\n",
       "    <tr>\n",
       "      <th>2301</th>\n",
       "      <td>1463</td>\n",
       "      <td>0.0</td>\n",
       "      <td>0.00</td>\n",
       "      <td>0.0</td>\n",
       "      <td>0.00</td>\n",
       "      <td>0.0</td>\n",
       "      <td>ultimate</td>\n",
       "    </tr>\n",
       "    <tr>\n",
       "      <th>2302</th>\n",
       "      <td>1473</td>\n",
       "      <td>0.0</td>\n",
       "      <td>0.00</td>\n",
       "      <td>0.0</td>\n",
       "      <td>0.00</td>\n",
       "      <td>0.0</td>\n",
       "      <td>surf</td>\n",
       "    </tr>\n",
       "  </tbody>\n",
       "</table>\n",
       "<p>2303 rows × 7 columns</p>\n",
       "</div>"
      ],
      "text/plain": [
       "      user_id  month   mb_used  messages_sent  monthly_minutes  calls_made  \\\n",
       "0        1000   12.0   1901.47           11.0           116.83        16.0   \n",
       "1        1001    8.0   6919.15           30.0           171.14        27.0   \n",
       "2        1001    9.0  13314.82           44.0           297.69        49.0   \n",
       "3        1001   10.0  22330.49           53.0           374.11        65.0   \n",
       "4        1001   11.0  18504.30           36.0           404.59        64.0   \n",
       "...       ...    ...       ...            ...              ...         ...   \n",
       "2298     1307    0.0      0.00            0.0             0.00         0.0   \n",
       "2299     1319    0.0      0.00            0.0             0.00         0.0   \n",
       "2300     1378    0.0      0.00            0.0             0.00         0.0   \n",
       "2301     1463    0.0      0.00            0.0             0.00         0.0   \n",
       "2302     1473    0.0      0.00            0.0             0.00         0.0   \n",
       "\n",
       "          plan  \n",
       "0     ultimate  \n",
       "1         surf  \n",
       "2         surf  \n",
       "3         surf  \n",
       "4         surf  \n",
       "...        ...  \n",
       "2298      surf  \n",
       "2299      surf  \n",
       "2300      surf  \n",
       "2301  ultimate  \n",
       "2302      surf  \n",
       "\n",
       "[2303 rows x 7 columns]"
      ]
     },
     "execution_count": 35,
     "metadata": {},
     "output_type": "execute_result"
    }
   ],
   "source": [
    "# añadir la información del plan\n",
    "\n",
    "combined_data = combined_data.merge(megaline_users_df[['user_id', 'plan']], on=['user_id'], how='outer')\n",
    "\n",
    "combined_data = combined_data.fillna(0)\n",
    "\n",
    "combined_data"
   ]
  },
  {
   "cell_type": "code",
   "execution_count": 36,
   "metadata": {},
   "outputs": [
    {
     "data": {
      "text/html": [
       "<div>\n",
       "<style scoped>\n",
       "    .dataframe tbody tr th:only-of-type {\n",
       "        vertical-align: middle;\n",
       "    }\n",
       "\n",
       "    .dataframe tbody tr th {\n",
       "        vertical-align: top;\n",
       "    }\n",
       "\n",
       "    .dataframe thead th {\n",
       "        text-align: right;\n",
       "    }\n",
       "</style>\n",
       "<table border=\"1\" class=\"dataframe\">\n",
       "  <thead>\n",
       "    <tr style=\"text-align: right;\">\n",
       "      <th></th>\n",
       "      <th>user_id</th>\n",
       "      <th>month</th>\n",
       "      <th>mb_used</th>\n",
       "      <th>messages_sent</th>\n",
       "      <th>monthly_minutes</th>\n",
       "      <th>calls_made</th>\n",
       "      <th>plan</th>\n",
       "      <th>monthly_revenue</th>\n",
       "    </tr>\n",
       "  </thead>\n",
       "  <tbody>\n",
       "    <tr>\n",
       "      <th>0</th>\n",
       "      <td>1000</td>\n",
       "      <td>12.0</td>\n",
       "      <td>1901.47</td>\n",
       "      <td>11.0</td>\n",
       "      <td>116.83</td>\n",
       "      <td>16.0</td>\n",
       "      <td>ultimate</td>\n",
       "      <td>70.000000</td>\n",
       "    </tr>\n",
       "    <tr>\n",
       "      <th>1</th>\n",
       "      <td>1001</td>\n",
       "      <td>8.0</td>\n",
       "      <td>6919.15</td>\n",
       "      <td>30.0</td>\n",
       "      <td>171.14</td>\n",
       "      <td>27.0</td>\n",
       "      <td>surf</td>\n",
       "      <td>20.000000</td>\n",
       "    </tr>\n",
       "    <tr>\n",
       "      <th>2</th>\n",
       "      <td>1001</td>\n",
       "      <td>9.0</td>\n",
       "      <td>13314.82</td>\n",
       "      <td>44.0</td>\n",
       "      <td>297.69</td>\n",
       "      <td>49.0</td>\n",
       "      <td>surf</td>\n",
       "      <td>20.000000</td>\n",
       "    </tr>\n",
       "    <tr>\n",
       "      <th>3</th>\n",
       "      <td>1001</td>\n",
       "      <td>10.0</td>\n",
       "      <td>22330.49</td>\n",
       "      <td>53.0</td>\n",
       "      <td>374.11</td>\n",
       "      <td>65.0</td>\n",
       "      <td>surf</td>\n",
       "      <td>88.161191</td>\n",
       "    </tr>\n",
       "    <tr>\n",
       "      <th>4</th>\n",
       "      <td>1001</td>\n",
       "      <td>11.0</td>\n",
       "      <td>18504.30</td>\n",
       "      <td>36.0</td>\n",
       "      <td>404.59</td>\n",
       "      <td>64.0</td>\n",
       "      <td>surf</td>\n",
       "      <td>50.706055</td>\n",
       "    </tr>\n",
       "    <tr>\n",
       "      <th>...</th>\n",
       "      <td>...</td>\n",
       "      <td>...</td>\n",
       "      <td>...</td>\n",
       "      <td>...</td>\n",
       "      <td>...</td>\n",
       "      <td>...</td>\n",
       "      <td>...</td>\n",
       "      <td>...</td>\n",
       "    </tr>\n",
       "    <tr>\n",
       "      <th>2298</th>\n",
       "      <td>1307</td>\n",
       "      <td>0.0</td>\n",
       "      <td>0.00</td>\n",
       "      <td>0.0</td>\n",
       "      <td>0.00</td>\n",
       "      <td>0.0</td>\n",
       "      <td>surf</td>\n",
       "      <td>20.000000</td>\n",
       "    </tr>\n",
       "    <tr>\n",
       "      <th>2299</th>\n",
       "      <td>1319</td>\n",
       "      <td>0.0</td>\n",
       "      <td>0.00</td>\n",
       "      <td>0.0</td>\n",
       "      <td>0.00</td>\n",
       "      <td>0.0</td>\n",
       "      <td>surf</td>\n",
       "      <td>20.000000</td>\n",
       "    </tr>\n",
       "    <tr>\n",
       "      <th>2300</th>\n",
       "      <td>1378</td>\n",
       "      <td>0.0</td>\n",
       "      <td>0.00</td>\n",
       "      <td>0.0</td>\n",
       "      <td>0.00</td>\n",
       "      <td>0.0</td>\n",
       "      <td>surf</td>\n",
       "      <td>20.000000</td>\n",
       "    </tr>\n",
       "    <tr>\n",
       "      <th>2301</th>\n",
       "      <td>1463</td>\n",
       "      <td>0.0</td>\n",
       "      <td>0.00</td>\n",
       "      <td>0.0</td>\n",
       "      <td>0.00</td>\n",
       "      <td>0.0</td>\n",
       "      <td>ultimate</td>\n",
       "      <td>70.000000</td>\n",
       "    </tr>\n",
       "    <tr>\n",
       "      <th>2302</th>\n",
       "      <td>1473</td>\n",
       "      <td>0.0</td>\n",
       "      <td>0.00</td>\n",
       "      <td>0.0</td>\n",
       "      <td>0.00</td>\n",
       "      <td>0.0</td>\n",
       "      <td>surf</td>\n",
       "      <td>20.000000</td>\n",
       "    </tr>\n",
       "  </tbody>\n",
       "</table>\n",
       "<p>2303 rows × 8 columns</p>\n",
       "</div>"
      ],
      "text/plain": [
       "      user_id  month   mb_used  messages_sent  monthly_minutes  calls_made  \\\n",
       "0        1000   12.0   1901.47           11.0           116.83        16.0   \n",
       "1        1001    8.0   6919.15           30.0           171.14        27.0   \n",
       "2        1001    9.0  13314.82           44.0           297.69        49.0   \n",
       "3        1001   10.0  22330.49           53.0           374.11        65.0   \n",
       "4        1001   11.0  18504.30           36.0           404.59        64.0   \n",
       "...       ...    ...       ...            ...              ...         ...   \n",
       "2298     1307    0.0      0.00            0.0             0.00         0.0   \n",
       "2299     1319    0.0      0.00            0.0             0.00         0.0   \n",
       "2300     1378    0.0      0.00            0.0             0.00         0.0   \n",
       "2301     1463    0.0      0.00            0.0             0.00         0.0   \n",
       "2302     1473    0.0      0.00            0.0             0.00         0.0   \n",
       "\n",
       "          plan  monthly_revenue  \n",
       "0     ultimate        70.000000  \n",
       "1         surf        20.000000  \n",
       "2         surf        20.000000  \n",
       "3         surf        88.161191  \n",
       "4         surf        50.706055  \n",
       "...        ...              ...  \n",
       "2298      surf        20.000000  \n",
       "2299      surf        20.000000  \n",
       "2300      surf        20.000000  \n",
       "2301  ultimate        70.000000  \n",
       "2302      surf        20.000000  \n",
       "\n",
       "[2303 rows x 8 columns]"
      ]
     },
     "execution_count": 36,
     "metadata": {},
     "output_type": "execute_result"
    }
   ],
   "source": [
    "# calcular el ingreso mensual para cada usuario\n",
    "\n",
    "def calculate_monthly_revenue(plan, messages_sent, mb_used, monthly_minutes):\n",
    "    if plan == \"surf\":\n",
    "        messages_included = 50\n",
    "        mb_included = 15360\n",
    "        minutes_included = 500\n",
    "        monthly_pay = 20\n",
    "        usd_per_message = 0.03\n",
    "        usd_per_mb = 10 / 1024  \n",
    "        usd_per_minute = 0.03\n",
    "    elif plan == \"ultimate\":\n",
    "        messages_included = 1000\n",
    "        mb_included = 30720\n",
    "        minutes_included = 3000\n",
    "        monthly_pay = 70\n",
    "        usd_per_message = 0.01\n",
    "        usd_per_mb = 7 / 1024  \n",
    "        usd_per_minute = 0.01\n",
    "    else:\n",
    "        return 0\n",
    "    \n",
    "    extra_messages = max(messages_sent - messages_included, 0)\n",
    "    extra_mb = max(mb_used - mb_included, 0)\n",
    "    extra_minutes = max(monthly_minutes - minutes_included, 0)\n",
    "    \n",
    "    total_usd = (\n",
    "        extra_messages * usd_per_message +\n",
    "        extra_mb * usd_per_mb +\n",
    "        extra_minutes * usd_per_minute +\n",
    "        monthly_pay\n",
    "    )\n",
    "    \n",
    "    return total_usd\n",
    "\n",
    "combined_data['monthly_revenue'] = combined_data.apply(\n",
    "    lambda row: calculate_monthly_revenue(row['plan'], row['messages_sent'], row['mb_used'], row['monthly_minutes']),\n",
    "    axis=1\n",
    ")\n",
    "\n",
    "combined_data"
   ]
  },
  {
   "cell_type": "markdown",
   "metadata": {},
   "source": [
    "__Evaluación:__\n",
    "\n",
    " - Agregamos datos para mostrar el __uso del servicio__ por cada usuario\n",
    " - __Combinamos__ los datos agregados en el DataFrame `combined_data`\n",
    " - Calculamos el __ingreso mensual__ para cada usuario\n",
    " - El número de filas de estos nuevos conjuntos de datos, tiene __diferente tamaño__ según el comportamiento del usuario"
   ]
  },
  {
   "cell_type": "markdown",
   "metadata": {},
   "source": [
    "# Estudia el comportamiento del usuario"
   ]
  },
  {
   "cell_type": "markdown",
   "metadata": {},
   "source": [
    "## Llamadas"
   ]
  },
  {
   "cell_type": "code",
   "execution_count": 37,
   "metadata": {},
   "outputs": [
    {
     "data": {
      "image/png": "[encoded data removed]",
      "text/plain": [
       "<Figure size 1200x600 with 1 Axes>"
      ]
     },
     "metadata": {},
     "output_type": "display_data"
    }
   ],
   "source": [
    "# trazar un gráfico de barras para comparar el promedio de la duración de la llamadas por plan y mes\n",
    "\n",
    "average_call_duration = combined_data.groupby(['plan', 'month'])['monthly_minutes'].mean().reset_index()\n",
    "average_call_duration['month'] = average_call_duration['month'].round().astype(int)\n",
    "average_call_duration['month'] = average_call_duration['month'].apply(lambda x: calendar.month_abbr[x])\n",
    "\n",
    "plt.figure(figsize=(12, 6))\n",
    "sns.barplot(x='month', y='monthly_minutes', hue='plan', data=average_call_duration)\n",
    "plt.title('Duración promedio de llamadas por plan y mes')\n",
    "plt.xlabel('Mes')\n",
    "plt.ylabel('Duración promedio (minutos)')\n",
    "plt.xticks(rotation=45)\n",
    "plt.legend(title='Plan')\n",
    "plt.show()"
   ]
  },
  {
   "cell_type": "code",
   "execution_count": 38,
   "metadata": {},
   "outputs": [
    {
     "data": {
      "image/png": "[encoded data removed]",
      "text/plain": [
       "<Figure size 1200x600 with 1 Axes>"
      ]
     },
     "metadata": {},
     "output_type": "display_data"
    }
   ],
   "source": [
    "# trazar un histograma para comparar el número de minutos que los usuarios de cada plan requieren cada mes\n",
    "\n",
    "surf_data = combined_data[combined_data['plan'] == 'surf']\n",
    "ultimate_data = combined_data[combined_data['plan'] == 'ultimate']\n",
    "\n",
    "plt.figure(figsize=(12, 6))\n",
    "sns.histplot(data=surf_data, x='monthly_minutes', bins=20, color='skyblue', label='Surf', kde=True)\n",
    "sns.histplot(data=ultimate_data, x='monthly_minutes', bins=20, color='salmon', label='Ultimate', kde=True)\n",
    "\n",
    "plt.title('Distribución de minutos utilizados por plan y mes')\n",
    "plt.xlabel('Minutos utilizados por mes')\n",
    "plt.ylabel('Frecuencia')\n",
    "plt.legend(title='Plan')\n",
    "plt.show()"
   ]
  },
  {
   "cell_type": "code",
   "execution_count": 39,
   "metadata": {},
   "outputs": [
    {
     "name": "stdout",
     "output_type": "stream",
     "text": [
      "Media de la duración mensual de llamadas por el plan Surf: 403.2243445218493\n",
      "Varianza de la duración mensual de llamadas por el plan Surf: 49568.849927374235\n",
      "Desviación estándar de la duración mensual de llamadas por el plan Surf: 222.64062955214226\n"
     ]
    }
   ],
   "source": [
    "# calcular la media, la varianza y la desviación estándar de la duración mensual de llamadas por el plan Surf\n",
    "\n",
    "surf_data = combined_data[combined_data['plan'] == 'surf']\n",
    "\n",
    "media_llamadas_surf = surf_data['monthly_minutes'].mean()\n",
    "varianza_llamadas_surf = surf_data['monthly_minutes'].var()\n",
    "desviacion_estandar_llamadas_surf = surf_data['monthly_minutes'].std()\n",
    "\n",
    "print(f\"Media de la duración mensual de llamadas por el plan Surf: {media_llamadas_surf}\")\n",
    "print(f\"Varianza de la duración mensual de llamadas por el plan Surf: {varianza_llamadas_surf}\")\n",
    "print(f\"Desviación estándar de la duración mensual de llamadas por el plan Surf: {desviacion_estandar_llamadas_surf}\")"
   ]
  },
  {
   "cell_type": "code",
   "execution_count": 40,
   "metadata": {
    "tags": []
   },
   "outputs": [
    {
     "name": "stdout",
     "output_type": "stream",
     "text": [
      "Media de la duración mensual de llamadas por el plan Ultimate: 403.94892265193363\n",
      "Varianza de la duración mensual de llamadas por el plan Ultimate: 52263.0476787824\n",
      "Desviación estándar de la duración mensual de llamadas por el plan Ultimate: 228.61112763551645\n"
     ]
    }
   ],
   "source": [
    "# calcular la media, la varianza y la desviación estándar de la duración mensual de llamadas por el plan Ultimate\n",
    "\n",
    "ultimate_data = combined_data[combined_data['plan'] == 'ultimate']\n",
    "\n",
    "media_llamadas_ultimate = ultimate_data['monthly_minutes'].mean()\n",
    "varianza_llamadas_ultimate = ultimate_data['monthly_minutes'].var()\n",
    "desviacion_estandar_llamadas_ultimate = ultimate_data['monthly_minutes'].std()\n",
    "\n",
    "print(f\"Media de la duración mensual de llamadas por el plan Ultimate: {media_llamadas_ultimate}\")\n",
    "print(f\"Varianza de la duración mensual de llamadas por el plan Ultimate: {varianza_llamadas_ultimate}\")\n",
    "print(f\"Desviación estándar de la duración mensual de llamadas por el plan Ultimate: {desviacion_estandar_llamadas_ultimate}\")"
   ]
  },
  {
   "cell_type": "code",
   "execution_count": 41,
   "metadata": {},
   "outputs": [],
   "source": [
    "# definir una función para calcular los límites de los datos en función del IQR\n",
    "\n",
    "def calculate_boxplot_limits(data, factor=1.5):\n",
    "    Q1 = data.quantile(0.25)\n",
    "    Q3 = data.quantile(0.75)\n",
    "    IQR = Q3 - Q1\n",
    "    \n",
    "    lower_limit = Q1 - factor * IQR\n",
    "    upper_limit = Q3 + factor * IQR\n",
    "    \n",
    "    return lower_limit, upper_limit"
   ]
  },
  {
   "cell_type": "code",
   "execution_count": 42,
   "metadata": {},
   "outputs": [
    {
     "data": {
      "image/png": "[encoded data removed]",
      "text/plain": [
       "<Figure size 1400x600 with 2 Axes>"
      ]
     },
     "metadata": {},
     "output_type": "display_data"
    }
   ],
   "source": [
    "# comparar la duración de las llamadas por los dos planes\n",
    "\n",
    "lower_limit, upper_limit = calculate_boxplot_limits(combined_data['monthly_minutes'])\n",
    "\n",
    "surf_data_filtered = surf_data[(surf_data['monthly_minutes'] >= lower_limit) & (surf_data['monthly_minutes'] <= upper_limit)]\n",
    "ultimate_data_filtered = ultimate_data[(ultimate_data['monthly_minutes'] >= lower_limit) & (ultimate_data['monthly_minutes'] <= upper_limit)]\n",
    "\n",
    "fig, axes = plt.subplots(1, 2, figsize=(14, 6), sharey=True)\n",
    "\n",
    "sns.boxplot(data=surf_data_filtered, x='monthly_minutes', ax=axes[0])\n",
    "axes[0].set_title('Plan Surf')\n",
    "axes[0].set_xlabel('Duración Mensual (minutos)')\n",
    "\n",
    "sns.boxplot(data=ultimate_data_filtered, x='monthly_minutes', ax=axes[1])\n",
    "axes[1].set_title('Plan Ultimate')\n",
    "axes[1].set_xlabel('Duración Mensual (minutos)')\n",
    "\n",
    "plt.suptitle('Comparación de la duración mensual de llamadas entre planes')\n",
    "plt.tight_layout()\n",
    "plt.show()"
   ]
  },
  {
   "cell_type": "markdown",
   "metadata": {},
   "source": [
    "__Evaluación:__\n",
    "\n",
    "__Para el plan Surf__\n",
    "\n",
    " - La duración mensual __promedio__ de las llamadas es de aproximadamente __403.22 minutos__\n",
    " - La __desviación estándar__ de la duración mensual de las llamadas es de aproximadamente __222.64 minutos__\n",
    "\n",
    "__Para el plan Ultimate__\n",
    "\n",
    " - La duración mensual __promedio__ de las llamadas es de aproximadamente __403.95 minutos__\n",
    " - La __desviación estándar__ de la duración mensual de las llamadas es de aproximadamente __228.61 minutos__\n",
    "\n",
    "\n",
    " - En promedio la duración de las llamadas es bastante __similar__ para ambos planes\n",
    " - El plan __Ultimate__ tiene una varianza __ligeramente mayor__ \n",
    " - Esto podría sugerir una __mayor variabilidad__ en la duración de las llamadas entre los usuarios de ese plan"
   ]
  },
  {
   "cell_type": "markdown",
   "metadata": {},
   "source": [
    "## Mensajes"
   ]
  },
  {
   "cell_type": "code",
   "execution_count": 43,
   "metadata": {},
   "outputs": [
    {
     "data": {
      "image/png": "[encoded data removed]",
      "text/plain": [
       "<Figure size 1200x600 with 1 Axes>"
      ]
     },
     "metadata": {},
     "output_type": "display_data"
    }
   ],
   "source": [
    "# trazar un gráfico de barras para comparar el número de mensajes enviados cada mes por los usuarios por cada plan\n",
    "\n",
    "average_message_count = combined_data.groupby(['plan', 'month'])['messages_sent'].mean().reset_index()\n",
    "average_message_count['month'] = average_message_count['month'].round().astype(int)\n",
    "average_message_count['month'] = average_message_count['month'].apply(lambda x: calendar.month_abbr[x])\n",
    "\n",
    "plt.figure(figsize=(12, 6))\n",
    "sns.barplot(x='month', y='messages_sent', hue='plan', data=average_message_count)\n",
    "plt.title('Mensajes promedio por plan y mes')\n",
    "plt.xlabel('Mes')\n",
    "plt.ylabel('Mensajes promedio')\n",
    "plt.xticks(rotation=45)\n",
    "plt.legend(title='Plan')\n",
    "plt.show()"
   ]
  },
  {
   "cell_type": "code",
   "execution_count": 44,
   "metadata": {},
   "outputs": [
    {
     "data": {
      "image/png": "[encoded data removed]",
      "text/plain": [
       "<Figure size 1200x600 with 1 Axes>"
      ]
     },
     "metadata": {},
     "output_type": "display_data"
    }
   ],
   "source": [
    "# trazar un histograma para comparar el número de mensajes que los usuarios de cada plan requieren cada mes\n",
    "\n",
    "surf_data = combined_data[combined_data['plan'] == 'surf']\n",
    "ultimate_data = combined_data[combined_data['plan'] == 'ultimate']\n",
    "\n",
    "plt.figure(figsize=(12, 6))\n",
    "sns.histplot(data=surf_data, x='messages_sent', bins=20, color='skyblue', label='Surf', kde=True)\n",
    "sns.histplot(data=ultimate_data, x='messages_sent', bins=20, color='salmon', label='Ultimate', kde=True)\n",
    "\n",
    "plt.title('Distribución de mensajes enviados por plan y mes')\n",
    "plt.xlabel('Mensajes enviados por mes')\n",
    "plt.ylabel('Frecuencia')\n",
    "plt.legend(title='Plan')\n",
    "plt.xlim(0, 200)\n",
    "plt.show()"
   ]
  },
  {
   "cell_type": "code",
   "execution_count": 45,
   "metadata": {},
   "outputs": [
    {
     "name": "stdout",
     "output_type": "stream",
     "text": [
      "Media de mensajes enviados cada mes por el plan Surf: 31.041165294490185\n",
      "Varianza de mensajes enviados cada mes por el plan Surf: 1126.1180762077647\n",
      "Desviación estándar de mensajes enviados cada mes por el plan Surf: 33.55768281940463\n"
     ]
    }
   ],
   "source": [
    "# calcular la media, la varianza y la desviación estándar de mensajes enviados por el plan Surf\n",
    "\n",
    "surf_data = combined_data[combined_data['plan'] == 'surf']\n",
    "\n",
    "media_mensajes_surf = surf_data['messages_sent'].mean()\n",
    "varianza_mensajes_surf = surf_data['messages_sent'].var()\n",
    "desviacion_estandar_mensajes_surf = surf_data['messages_sent'].std()\n",
    "\n",
    "print(f\"Media de mensajes enviados cada mes por el plan Surf: {media_mensajes_surf}\")\n",
    "print(f\"Varianza de mensajes enviados cada mes por el plan Surf: {varianza_mensajes_surf}\")\n",
    "print(f\"Desviación estándar de mensajes enviados cada mes por el plan Surf: {desviacion_estandar_mensajes_surf}\")"
   ]
  },
  {
   "cell_type": "code",
   "execution_count": 46,
   "metadata": {},
   "outputs": [
    {
     "name": "stdout",
     "output_type": "stream",
     "text": [
      "Media de mensajes enviados cada mes por el plan Ultimate: 37.3439226519337\n",
      "Varianza de mensajes enviados cada mes por el plan Ultimate: 1209.8276117007813\n",
      "Desviación estándar de mensajes enviados cada mes por el plan Ultimate: 34.7825762660097\n"
     ]
    }
   ],
   "source": [
    "# calcular la media, la varianza y la desviación estándar de mensajes enviados por el plan Ultimate\n",
    "\n",
    "ultimate_data = combined_data[combined_data['plan'] == 'ultimate']\n",
    "\n",
    "media_mensajes_ultimate = ultimate_data['messages_sent'].mean()\n",
    "varianza_mensajes_ultimate = ultimate_data['messages_sent'].var()\n",
    "desviacion_estandar_mensajes_ultimate = ultimate_data['messages_sent'].std()\n",
    "\n",
    "print(f\"Media de mensajes enviados cada mes por el plan Ultimate: {media_mensajes_ultimate}\")\n",
    "print(f\"Varianza de mensajes enviados cada mes por el plan Ultimate: {varianza_mensajes_ultimate}\")\n",
    "print(f\"Desviación estándar de mensajes enviados cada mes por el plan Ultimate: {desviacion_estandar_mensajes_ultimate}\")"
   ]
  },
  {
   "cell_type": "code",
   "execution_count": 47,
   "metadata": {},
   "outputs": [
    {
     "data": {
      "image/png": "[encoded data removed]",
      "text/plain": [
       "<Figure size 1400x600 with 2 Axes>"
      ]
     },
     "metadata": {},
     "output_type": "display_data"
    }
   ],
   "source": [
    "# comparar los mensajes enviados por los dos planes\n",
    "\n",
    "lower_limit, upper_limit = calculate_boxplot_limits(combined_data['messages_sent'])\n",
    "\n",
    "surf_data_filtered = surf_data[(surf_data['messages_sent'] >= lower_limit) & (surf_data['messages_sent'] <= upper_limit)]\n",
    "ultimate_data_filtered = ultimate_data[(ultimate_data['messages_sent'] >= lower_limit) & (ultimate_data['messages_sent'] <= upper_limit)]\n",
    "\n",
    "fig, axes = plt.subplots(1, 2, figsize=(14, 6), sharey=True)\n",
    "\n",
    "sns.boxplot(data=surf_data_filtered, x='messages_sent', ax=axes[0])\n",
    "axes[0].set_title('Plan Surf')\n",
    "axes[0].set_xlabel('Mensajes enviados')\n",
    "\n",
    "sns.boxplot(data=ultimate_data_filtered, x='messages_sent', ax=axes[1])\n",
    "axes[1].set_title('Plan Ultimate')\n",
    "axes[1].set_xlabel('Mensajes enviados')\n",
    "\n",
    "plt.suptitle('Comparación de mensajes enviados entre los planes')\n",
    "plt.tight_layout()\n",
    "plt.show()"
   ]
  },
  {
   "cell_type": "markdown",
   "metadata": {},
   "source": [
    "__Evaluación:__\n",
    "\n",
    "__Para el plan Surf__\n",
    "\n",
    "- La cantidad de mensajes enviados __promedio__ cada mes es de aproximadamente __31 mensajes__\n",
    "- La __desviación estándar__ de la cantidad de mensajes enviados cada mes es de aproximadamente __33 mensajes__\n",
    "\n",
    "__Para el plan Ultimate__\n",
    "\n",
    "- La cantidad de mensajes enviados __promedio__ cada mes es de aproximadamente __37 mensajes__\n",
    "- La __desviación estándar__ de la cantidad de mensajes enviados cada mes es de aproximadamente __34 mensajes__\n",
    "\n",
    "\n",
    "- En __promedio__, los usuarios del plan Ultimate envían __más mensajes__ cada mes en comparación con los usuarios del plan Surf\n",
    "- El plan Ultimate muestra una __mayor variabilidad__ en la cantidad de mensajes enviados"
   ]
  },
  {
   "cell_type": "markdown",
   "metadata": {},
   "source": [
    "## Internet"
   ]
  },
  {
   "cell_type": "code",
   "execution_count": 48,
   "metadata": {},
   "outputs": [
    {
     "data": {
      "image/png": "[encoded data removed]",
      "text/plain": [
       "<Figure size 1200x600 with 1 Axes>"
      ]
     },
     "metadata": {},
     "output_type": "display_data"
    }
   ],
   "source": [
    "# trazar un gráfico de barras para comparar la cantidad de MB consumidos cada mes por los usuarios por cada plan\n",
    "\n",
    "average_internet_usage = combined_data.groupby(['plan', 'month'])['mb_used'].mean().reset_index()\n",
    "average_internet_usage['month'] = average_internet_usage['month'].round().astype(int)\n",
    "average_internet_usage['month'] = average_internet_usage['month'].apply(lambda x: calendar.month_abbr[x])\n",
    "\n",
    "plt.figure(figsize=(12, 6))\n",
    "sns.barplot(x='month', y='mb_used', hue='plan', data=average_internet_usage)\n",
    "plt.title('Uso promedio de Internet por plan y mes')\n",
    "plt.xlabel('Mes')\n",
    "plt.ylabel('Uso promedio de Internet (MB)')\n",
    "plt.xticks(rotation=45)\n",
    "plt.legend(title='Plan')\n",
    "plt.show()"
   ]
  },
  {
   "cell_type": "code",
   "execution_count": 49,
   "metadata": {},
   "outputs": [
    {
     "data": {
      "image/png": "[encoded data removed]",
      "text/plain": [
       "<Figure size 1200x600 with 1 Axes>"
      ]
     },
     "metadata": {},
     "output_type": "display_data"
    }
   ],
   "source": [
    "# trazar un histograma para comparar la cantidad de MB que los usuarios de cada plan requieren cada mes\n",
    "\n",
    "surf_data = combined_data[combined_data['plan'] == 'surf']\n",
    "ultimate_data = combined_data[combined_data['plan'] == 'ultimate']\n",
    "\n",
    "plt.figure(figsize=(12, 6))\n",
    "sns.histplot(data=surf_data, x='mb_used', bins=20, color='skyblue', label='Surf', kde=True)\n",
    "sns.histplot(data=ultimate_data, x='mb_used', bins=20, color='salmon', label='Ultimate', kde=True)\n",
    "\n",
    "plt.title('Distribución del uso de Internet por plan y mes')\n",
    "plt.xlabel('Uso de Internet por mes (MB)')\n",
    "plt.ylabel('Frecuencia')\n",
    "plt.legend(title='Plan')\n",
    "plt.xlim(0, 50000) \n",
    "plt.show()"
   ]
  },
  {
   "cell_type": "code",
   "execution_count": 50,
   "metadata": {},
   "outputs": [
    {
     "name": "stdout",
     "output_type": "stream",
     "text": [
      "Media de MB consumidos cada mes por el plan Surf: 16495.364110196326\n",
      "Varianza de MB consumidos cada mes por el plan Surf: 65010762.831837304\n",
      "Desviación estándar de MB consumidos cada mes por el plan Surf: 8062.925203165245\n"
     ]
    }
   ],
   "source": [
    "# calcular la media, la varianza y la desviación estándar de MB consumidos por el plan Surf\n",
    "\n",
    "surf_data = combined_data[combined_data['plan'] == 'surf']\n",
    "\n",
    "media_mb_surf = surf_data['mb_used'].mean()\n",
    "varianza_mb_surf = surf_data['mb_used'].var()\n",
    "desviacion_estandar_mb_surf = surf_data['mb_used'].std()\n",
    "\n",
    "print(f\"Media de MB consumidos cada mes por el plan Surf: {media_mb_surf}\")\n",
    "print(f\"Varianza de MB consumidos cada mes por el plan Surf: {varianza_mb_surf}\")\n",
    "print(f\"Desviación estándar de MB consumidos cada mes por el plan Surf: {desviacion_estandar_mb_surf}\")"
   ]
  },
  {
   "cell_type": "code",
   "execution_count": 51,
   "metadata": {},
   "outputs": [
    {
     "name": "stdout",
     "output_type": "stream",
     "text": [
      "Media de MB consumidos cada mes por el plan Ultimate: 17119.59085635359\n",
      "Varianza de MB consumidos cada mes por el plan Ultimate: 62941678.2320742\n",
      "Desviación estándar de MB consumidos cada mes por el plan Ultimate: 7933.579156476237\n"
     ]
    }
   ],
   "source": [
    "# calcular la media, la varianza y la desviación estándar de MB consumidos por el plan Ultimate\n",
    "\n",
    "ultimate_data = combined_data[combined_data['plan'] == 'ultimate']\n",
    "\n",
    "media_mb_ultimate = ultimate_data['mb_used'].mean()\n",
    "varianza_mb_ultimate = ultimate_data['mb_used'].var()\n",
    "desviacion_estandar_mb_ultimate = ultimate_data['mb_used'].std()\n",
    "\n",
    "print(f\"Media de MB consumidos cada mes por el plan Ultimate: {media_mb_ultimate}\")\n",
    "print(f\"Varianza de MB consumidos cada mes por el plan Ultimate: {varianza_mb_ultimate}\")\n",
    "print(f\"Desviación estándar de MB consumidos cada mes por el plan Ultimate: {desviacion_estandar_mb_ultimate}\")"
   ]
  },
  {
   "cell_type": "code",
   "execution_count": 52,
   "metadata": {},
   "outputs": [
    {
     "data": {
      "image/png": "[encoded data removed]",
      "text/plain": [
       "<Figure size 1400x600 with 2 Axes>"
      ]
     },
     "metadata": {},
     "output_type": "display_data"
    }
   ],
   "source": [
    "# comparar los MB consumidos por los dos planes\n",
    "\n",
    "lower_limit, upper_limit = calculate_boxplot_limits(combined_data['mb_used'])\n",
    "\n",
    "surf_data_filtered = surf_data[(surf_data['mb_used'] >= lower_limit) & (surf_data['mb_used'] <= upper_limit)]\n",
    "ultimate_data_filtered = ultimate_data[(ultimate_data['mb_used'] >= lower_limit) & (ultimate_data['mb_used'] <= upper_limit)]\n",
    "\n",
    "fig, axes = plt.subplots(1, 2, figsize=(14, 6), sharey=True)\n",
    "\n",
    "sns.boxplot(data=surf_data_filtered, x='mb_used', ax=axes[0])\n",
    "axes[0].set_title('Plan Surf')\n",
    "axes[0].set_xlabel('Uso de Internet por mes (MB)')\n",
    "\n",
    "sns.boxplot(data=ultimate_data_filtered, x='mb_used', ax=axes[1])\n",
    "axes[1].set_title('Plan Ultimate')\n",
    "axes[1].set_xlabel('Uso de Internet por mes (MB)')\n",
    "\n",
    "plt.suptitle('Comparación del uso de Internet entre los planes Surf y Ultimate')\n",
    "plt.tight_layout()\n",
    "plt.show()"
   ]
  },
  {
   "cell_type": "markdown",
   "metadata": {},
   "source": [
    "__Evaluación:__\n",
    "\n",
    "__Para el plan Surf__\n",
    "\n",
    "- La cantidad de MB consumidos __promedio__ cada mes es de aproximadamente __16,49 MB__\n",
    "- La __desviación estándar__ de la cantidad de MB consumidos cada mes por el plan \"Surf\" es de aproximadamente __8,06 MB__\n",
    "\n",
    "__Para el plan Ultimate__\n",
    "\n",
    "- La cantidad de MB consumidos __promedio__ cada mes es de aproximadamente __17,11 MB__\n",
    "- La __desviación estándar__ de la cantidad de MB consumidos cada mes por el plan \"Ultimate\" es de aproximadamente __7,93 MB__\n",
    "\n",
    "\n",
    "- En promedio los usuarios del plan Ultimate consumen __ligeramente más__ MB cada mes\n",
    "- La varianza y la desviación estándar de la cantidad de MB consumidos son __bastante similares__ entre ambos planes\n",
    "- Esto sugiere una __consistencia__ en el uso de datos en ambos planes"
   ]
  },
  {
   "cell_type": "markdown",
   "metadata": {},
   "source": [
    "## Ingreso"
   ]
  },
  {
   "cell_type": "code",
   "execution_count": 53,
   "metadata": {},
   "outputs": [
    {
     "data": {
      "image/png": "[encoded data removed]",
      "text/plain": [
       "<Figure size 1200x600 with 1 Axes>"
      ]
     },
     "metadata": {},
     "output_type": "display_data"
    }
   ],
   "source": [
    "# trazar un gráfico de barras para comparar los ingresos mensuales de los usuarios por cada plan\n",
    "\n",
    "average_revenue_usage = combined_data.groupby(['plan', 'month'])['monthly_revenue'].mean().reset_index()\n",
    "average_revenue_usage['month'] = average_revenue_usage['month'].round().astype(int)\n",
    "average_revenue_usage['month'] = average_revenue_usage['month'].apply(lambda x: calendar.month_abbr[x])\n",
    "\n",
    "plt.figure(figsize=(12, 6))\n",
    "sns.barplot(x='month', y='monthly_revenue', hue='plan', data=average_revenue_usage)\n",
    "plt.title('Ingresos promedio por plan y mes')\n",
    "plt.xlabel('Mes')\n",
    "plt.ylabel('Ingresos promedio (USD)')\n",
    "plt.xticks(rotation=45)\n",
    "plt.legend(title='Plan')\n",
    "plt.show()"
   ]
  },
  {
   "cell_type": "code",
   "execution_count": 54,
   "metadata": {},
   "outputs": [
    {
     "name": "stdout",
     "output_type": "stream",
     "text": [
      "Media de ingresos cada mes por el plan Surf: 57.152072411831064\n",
      "Varianza de ingresos cada mes por el plan Surf: 2881.833930716778\n",
      "Desviación estándar de ingresos cada mes por el plan Surf: 53.682715381366265\n"
     ]
    }
   ],
   "source": [
    "# calcular la media, la varianza y la desviación estándar de ingresos por el plan Surf\n",
    "\n",
    "surf_data = combined_data[combined_data['plan'] == 'surf']\n",
    "\n",
    "media_ingresos_surf = surf_data['monthly_revenue'].mean()\n",
    "varianza_ingresos_surf = surf_data['monthly_revenue'].var()\n",
    "desviacion_estandar_ingresos_surf = surf_data['monthly_revenue'].std()\n",
    "\n",
    "print(f\"Media de ingresos cada mes por el plan Surf: {media_ingresos_surf}\")\n",
    "print(f\"Varianza de ingresos cada mes por el plan Surf: {varianza_ingresos_surf}\")\n",
    "print(f\"Desviación estándar de ingresos cada mes por el plan Surf: {desviacion_estandar_ingresos_surf}\")"
   ]
  },
  {
   "cell_type": "code",
   "execution_count": 55,
   "metadata": {
    "tags": []
   },
   "outputs": [
    {
     "name": "stdout",
     "output_type": "stream",
     "text": [
      "Media de ingresos cada mes por el plan Ultimate: 72.10438859633979\n",
      "Varianza de ingresos cada mes por el plan Ultimate: 115.35112331125356\n",
      "Desviación estándar de ingresos cada mes por el plan Ultimate: 10.740164026273229\n"
     ]
    }
   ],
   "source": [
    "# calcular la media, la varianza y la desviación estándar de ingresos por el plan Ultimate\n",
    "\n",
    "ultimate_data = combined_data[combined_data['plan'] == 'ultimate']\n",
    "\n",
    "media_ingresos_ultimate = ultimate_data['monthly_revenue'].mean()\n",
    "varianza_ingresos_ultimate = ultimate_data['monthly_revenue'].var()\n",
    "desviacion_ingresos_ultimate = ultimate_data['monthly_revenue'].std()\n",
    "\n",
    "print(f\"Media de ingresos cada mes por el plan Ultimate: {media_ingresos_ultimate}\")\n",
    "print(f\"Varianza de ingresos cada mes por el plan Ultimate: {varianza_ingresos_ultimate}\")\n",
    "print(f\"Desviación estándar de ingresos cada mes por el plan Ultimate: {desviacion_ingresos_ultimate}\")"
   ]
  },
  {
   "cell_type": "code",
   "execution_count": 56,
   "metadata": {},
   "outputs": [
    {
     "data": {
      "image/png": "[encoded data removed]",
      "text/plain": [
       "<Figure size 800x800 with 1 Axes>"
      ]
     },
     "metadata": {},
     "output_type": "display_data"
    }
   ],
   "source": [
    "# comparar los ingresos por los usuarios por plan y mes\n",
    "\n",
    "custom_palette = {'surf': '#E7900B', 'ultimate': '#CF1815'}\n",
    "\n",
    "plt.figure(figsize=(8, 8))\n",
    "sns.barplot(data=combined_data, x='plan', y='monthly_revenue', errorbar=('ci', 95), palette=custom_palette)\n",
    "plt.title('Comparación de ingresos entre los planes')\n",
    "plt.xlabel('Plan')\n",
    "plt.ylabel('Ingresos mensuales (USD)')\n",
    "plt.show()"
   ]
  },
  {
   "cell_type": "markdown",
   "metadata": {},
   "source": [
    "__Evaluación:__\n",
    "\n",
    "__Para el plan Surf__\n",
    "\n",
    "- La __media__ de ingresos cada mes es de aproximadamente __\\$57.15__\n",
    "- La __desviación estándar__ de ingresos cada mes es de aproximadamente __\\$53.68__\n",
    "\n",
    "__Para el plan Ultimate__\n",
    "\n",
    "- La __media__ de ingresos cada mes es de aproximadamente __\\$72.10__\n",
    "- La __desviación estándar__ de ingresos cada mes es de aproximadamente __\\$10.74__\n",
    "\n",
    "\n",
    "- Se observa que el plan Ultimate genera ingresos mensuales __significativamente mayores__ en promedio que el plan Surf\n",
    "- La  varianza y la desviación estándar de los ingresos mensuales del plan Ultimate son __considerablemente más bajas__ en comparación con el plan Surf\n",
    "- Esto sugiere que el plan Ultimate tiene una __mayor consistencia__ en sus ingresos mensuales en comparación con el plan Surf"
   ]
  },
  {
   "cell_type": "markdown",
   "metadata": {},
   "source": [
    "# Probar las hipótesis estadísticas"
   ]
  },
  {
   "cell_type": "code",
   "execution_count": 57,
   "metadata": {},
   "outputs": [],
   "source": [
    "# crear arreglos NumPy a partir de las columnas de ingresos mensuales de los usuarios de cada plan\n",
    "\n",
    "ingresos_surf = combined_data[combined_data['plan'] == 'surf']['monthly_revenue'].values\n",
    "ingresos_ultimate = combined_data[combined_data['plan'] == 'ultimate']['monthly_revenue'].values\n",
    "\n",
    "arreglo_ingresos_surf = np.array(ingresos_surf)\n",
    "arreglo_ingresos_ultimate = np.array(ingresos_ultimate)"
   ]
  },
  {
   "cell_type": "code",
   "execution_count": 58,
   "metadata": {},
   "outputs": [
    {
     "name": "stdout",
     "output_type": "stream",
     "text": [
      "Rechazamos la hipótesis nula\n",
      "Valor de t: -7.425845700402007\n",
      "Valor p: 1.5695898114080992e-13\n"
     ]
    }
   ],
   "source": [
    "# probar las hipótesis\n",
    "\n",
    "t_statistic, p_value = stats.ttest_ind(ingresos_surf, ingresos_ultimate)\n",
    "\n",
    "alpha = 0.05\n",
    "\n",
    "if p_value < alpha:\n",
    "    print(\"Rechazamos la hipótesis nula\")\n",
    "else:\n",
    "    print(\"No rechazamos la hipótesis nula\")\n",
    "\n",
    "print(f'Valor de t: {t_statistic}')\n",
    "print(f'Valor p: {p_value}')"
   ]
  },
  {
   "cell_type": "code",
   "execution_count": 59,
   "metadata": {},
   "outputs": [
    {
     "data": {
      "text/html": [
       "<div>\n",
       "<style scoped>\n",
       "    .dataframe tbody tr th:only-of-type {\n",
       "        vertical-align: middle;\n",
       "    }\n",
       "\n",
       "    .dataframe tbody tr th {\n",
       "        vertical-align: top;\n",
       "    }\n",
       "\n",
       "    .dataframe thead th {\n",
       "        text-align: right;\n",
       "    }\n",
       "</style>\n",
       "<table border=\"1\" class=\"dataframe\">\n",
       "  <thead>\n",
       "    <tr style=\"text-align: right;\">\n",
       "      <th></th>\n",
       "      <th>user_id</th>\n",
       "      <th>month</th>\n",
       "      <th>mb_used</th>\n",
       "      <th>messages_sent</th>\n",
       "      <th>monthly_minutes</th>\n",
       "      <th>calls_made</th>\n",
       "      <th>plan</th>\n",
       "      <th>monthly_revenue</th>\n",
       "      <th>city</th>\n",
       "    </tr>\n",
       "  </thead>\n",
       "  <tbody>\n",
       "    <tr>\n",
       "      <th>0</th>\n",
       "      <td>1000</td>\n",
       "      <td>12.0</td>\n",
       "      <td>1901.47</td>\n",
       "      <td>11.0</td>\n",
       "      <td>116.83</td>\n",
       "      <td>16.0</td>\n",
       "      <td>ultimate</td>\n",
       "      <td>70.000000</td>\n",
       "      <td>Atlanta-Sandy Springs-Roswell, GA MSA</td>\n",
       "    </tr>\n",
       "    <tr>\n",
       "      <th>1</th>\n",
       "      <td>1001</td>\n",
       "      <td>8.0</td>\n",
       "      <td>6919.15</td>\n",
       "      <td>30.0</td>\n",
       "      <td>171.14</td>\n",
       "      <td>27.0</td>\n",
       "      <td>surf</td>\n",
       "      <td>20.000000</td>\n",
       "      <td>Seattle-Tacoma-Bellevue, WA MSA</td>\n",
       "    </tr>\n",
       "    <tr>\n",
       "      <th>2</th>\n",
       "      <td>1001</td>\n",
       "      <td>9.0</td>\n",
       "      <td>13314.82</td>\n",
       "      <td>44.0</td>\n",
       "      <td>297.69</td>\n",
       "      <td>49.0</td>\n",
       "      <td>surf</td>\n",
       "      <td>20.000000</td>\n",
       "      <td>Seattle-Tacoma-Bellevue, WA MSA</td>\n",
       "    </tr>\n",
       "    <tr>\n",
       "      <th>3</th>\n",
       "      <td>1001</td>\n",
       "      <td>10.0</td>\n",
       "      <td>22330.49</td>\n",
       "      <td>53.0</td>\n",
       "      <td>374.11</td>\n",
       "      <td>65.0</td>\n",
       "      <td>surf</td>\n",
       "      <td>88.161191</td>\n",
       "      <td>Seattle-Tacoma-Bellevue, WA MSA</td>\n",
       "    </tr>\n",
       "    <tr>\n",
       "      <th>4</th>\n",
       "      <td>1001</td>\n",
       "      <td>11.0</td>\n",
       "      <td>18504.30</td>\n",
       "      <td>36.0</td>\n",
       "      <td>404.59</td>\n",
       "      <td>64.0</td>\n",
       "      <td>surf</td>\n",
       "      <td>50.706055</td>\n",
       "      <td>Seattle-Tacoma-Bellevue, WA MSA</td>\n",
       "    </tr>\n",
       "  </tbody>\n",
       "</table>\n",
       "</div>"
      ],
      "text/plain": [
       "   user_id  month   mb_used  messages_sent  monthly_minutes  calls_made  \\\n",
       "0     1000   12.0   1901.47           11.0           116.83        16.0   \n",
       "1     1001    8.0   6919.15           30.0           171.14        27.0   \n",
       "2     1001    9.0  13314.82           44.0           297.69        49.0   \n",
       "3     1001   10.0  22330.49           53.0           374.11        65.0   \n",
       "4     1001   11.0  18504.30           36.0           404.59        64.0   \n",
       "\n",
       "       plan  monthly_revenue                                   city  \n",
       "0  ultimate        70.000000  Atlanta-Sandy Springs-Roswell, GA MSA  \n",
       "1      surf        20.000000        Seattle-Tacoma-Bellevue, WA MSA  \n",
       "2      surf        20.000000        Seattle-Tacoma-Bellevue, WA MSA  \n",
       "3      surf        88.161191        Seattle-Tacoma-Bellevue, WA MSA  \n",
       "4      surf        50.706055        Seattle-Tacoma-Bellevue, WA MSA  "
      ]
     },
     "execution_count": 59,
     "metadata": {},
     "output_type": "execute_result"
    }
   ],
   "source": [
    "# agregamos la región de los usuarios a `combined_data`\n",
    "\n",
    "combined_data = combined_data.merge(megaline_users_df[['user_id', 'city']], on=['user_id'], how='outer')\n",
    "\n",
    "combined_data = combined_data.fillna(0)\n",
    "\n",
    "combined_data.head()"
   ]
  },
  {
   "cell_type": "code",
   "execution_count": 60,
   "metadata": {},
   "outputs": [
    {
     "name": "stdout",
     "output_type": "stream",
     "text": [
      "p-value: 0.021731939597751316\n",
      "Rechazamos la hipótesis nula\n"
     ]
    }
   ],
   "source": [
    "# probar las hipótesis\n",
    "\n",
    "ny_nj_income = combined_data[combined_data['city'] == 'New York-Newark-Jersey City, NY-NJ-PA MSA']['monthly_revenue']\n",
    "other_regions_income = combined_data[combined_data['city'] != 'New York-Newark-Jersey City, NY-NJ-PA MSA']['monthly_revenue']\n",
    "\n",
    "alpha = 0.05\n",
    "results = stats.ttest_ind(ny_nj_income, other_regions_income, equal_var=False)\n",
    "\n",
    "print('p-value:', results.pvalue)\n",
    "\n",
    "if results.pvalue < alpha:\n",
    "    print(\"Rechazamos la hipótesis nula\")\n",
    "else:\n",
    "    print(\"No rechazamos la hipótesis nula\")"
   ]
  },
  {
   "cell_type": "markdown",
   "metadata": {},
   "source": [
    "# Conclusión general"
   ]
  },
  {
   "cell_type": "markdown",
   "metadata": {},
   "source": [
    "__Resultados del Análisis de Prueba t para los Planes Surf y Ultimate:__\n",
    "\n",
    "- Hemos realizado una __prueba t__ de dos muestras para comparar los ingresos mensuales promedio entre los usuarios de los planes Surf y Ultimate\n",
    "- El objetivo era determinar si existen diferencias significativas en los ingresos entre estos dos grupos de usuarios\n",
    "\n",
    "__Los resultados de la prueba indican lo siguiente:__\n",
    "\n",
    "Valor de t: El valor de t calculado es de aproximadamente __-7.43__\n",
    "\n",
    "Valor p: El valor p calculado es extremadamente pequeño, alrededor de __1.57e-13__\n",
    "\n",
    "__Interpretación:__\n",
    "\n",
    "Dado que el __valor p__ es significativamente menor que nuestro nivel de significancia (alfa) establecido en 0.05, podemos concluir que hay evidencia suficiente para __rechazar la hipótesis nula__. En otras palabras, los ingresos mensuales promedio de los usuarios de los planes Surf y Ultimate son __significativamente diferentes__. Este resultado sugiere que existe una diferencia significativa en los ingresos entre los dos grupos de usuarios. Específicamente, los usuarios del plan Ultimate tienden a generar ingresos mensuales promedio __significativamente más altos__ en comparación con los usuarios del plan Surf."
   ]
  },
  {
   "cell_type": "markdown",
   "metadata": {},
   "source": [
    "__Resultados de la Prueba de Hipótesis para Ingresos Mensuales en el Área \"New York-Newark-Jersey City, NY-NJ-PA MSA\":__\n",
    "\n",
    "- Hemos realizado una prueba de hipótesis para comparar los ingresos mensuales promedio entre los usuarios del área \"New York-Newark-Jersey City, NY-NJ-PA MSA\" y los usuarios de otras regiones\n",
    "\n",
    "__Nuestras hipótesis eran las siguientes:__\n",
    "\n",
    "- Hipótesis Nula (H0): No hay diferencia significativa en los ingresos mensuales promedio entre los usuarios del área \"New York-Newark-Jersey City, NY-NJ-PA MSA\" y los usuarios de otras regiones\n",
    "\n",
    "\n",
    "- Hipótesis Alternativa (H1): Existe una diferencia significativa en los ingresos mensuales promedio entre los usuarios del área \"New York-Newark-Jersey City, NY-NJ-PA MSA\" y los usuarios de otras regiones\n",
    "\n",
    "__Los resultados de la prueba son los siguientes:__\n",
    "\n",
    "Valor p: El valor p calculado es aproximadamente __0.022__\n",
    "\n",
    "__Interpretación:__\n",
    "\n",
    "Dado que el __valor p__ es menor que nuestro nivel de significancia (alfa) establecido en 0.05, tenemos evidencia suficiente para __rechazar la hipótesis nula__. Esto significa que hay una __diferencia significativa__ en los ingresos mensuales promedio entre los usuarios del área \"New York-Newark-Jersey City, NY-NJ-PA MSA\" y los usuarios de otras regiones. En resumen, nuestros hallazgos respaldan la hipótesis alternativa, lo que sugiere que los ingresos mensuales promedio de los usuarios en el área \"New York-Newark-Jersey City, NY-NJ-PA MSA\" son __significativamente diferentes__ de los usuarios en otras regiones."
   ]
  }
 ],
 "metadata": {
  "ExecuteTimeLog": [
   {
    "duration": 828,
    "start_time": "2021-11-16T09:21:11.304Z"
   },
   {
    "duration": 893,
    "start_time": "2021-11-16T09:21:17.728Z"
   },
   {
    "duration": 1150,
    "start_time": "2021-11-16T09:21:29.568Z"
   },
   {
    "duration": 3,
    "start_time": "2021-11-16T09:24:14.495Z"
   },
   {
    "duration": 120,
    "start_time": "2021-11-16T09:24:46.630Z"
   },
   {
    "duration": 3,
    "start_time": "2021-11-16T09:28:27.882Z"
   },
   {
    "duration": 4,
    "start_time": "2021-11-16T09:29:54.281Z"
   },
   {
    "duration": 3,
    "start_time": "2021-11-16T09:30:45.936Z"
   },
   {
    "duration": 4,
    "start_time": "2021-11-16T09:31:06.300Z"
   },
   {
    "duration": 113,
    "start_time": "2021-11-16T09:31:37.208Z"
   },
   {
    "duration": 143,
    "start_time": "2021-11-16T09:31:48.656Z"
   },
   {
    "duration": 98,
    "start_time": "2021-11-16T09:31:55.678Z"
   },
   {
    "duration": 3,
    "start_time": "2021-11-16T09:32:08.535Z"
   },
   {
    "duration": 111,
    "start_time": "2021-11-16T09:32:10.120Z"
   },
   {
    "duration": 3,
    "start_time": "2021-11-16T09:32:15.732Z"
   },
   {
    "duration": 4,
    "start_time": "2021-11-16T09:32:29.423Z"
   },
   {
    "duration": 3,
    "start_time": "2021-11-16T10:03:03.074Z"
   },
   {
    "duration": 3,
    "start_time": "2021-11-16T10:10:01.288Z"
   },
   {
    "duration": 3,
    "start_time": "2021-11-16T10:10:46.923Z"
   },
   {
    "duration": 121,
    "start_time": "2021-11-16T10:37:46.494Z"
   },
   {
    "duration": 125,
    "start_time": "2021-11-16T10:38:20.632Z"
   },
   {
    "duration": 112,
    "start_time": "2021-11-16T10:46:53.001Z"
   },
   {
    "duration": 110,
    "start_time": "2021-11-16T10:48:25.775Z"
   },
   {
    "duration": 3,
    "start_time": "2021-11-16T10:50:18.720Z"
   },
   {
    "duration": 4,
    "start_time": "2021-11-16T10:50:37.649Z"
   },
   {
    "duration": 2,
    "start_time": "2021-11-16T10:50:51.884Z"
   },
   {
    "duration": 3,
    "start_time": "2021-11-16T10:51:56.237Z"
   },
   {
    "duration": 101,
    "start_time": "2021-11-16T10:53:13.791Z"
   },
   {
    "duration": 3,
    "start_time": "2021-11-16T10:55:59.186Z"
   },
   {
    "duration": 3,
    "start_time": "2021-11-16T10:56:10.751Z"
   },
   {
    "duration": 3,
    "start_time": "2021-11-16T10:56:49.038Z"
   },
   {
    "duration": 3,
    "start_time": "2021-11-16T10:56:49.174Z"
   },
   {
    "duration": 4,
    "start_time": "2021-11-16T10:56:49.414Z"
   },
   {
    "duration": 3,
    "start_time": "2021-11-16T10:56:49.680Z"
   },
   {
    "duration": 3,
    "start_time": "2021-11-16T10:56:50.370Z"
   },
   {
    "duration": 114,
    "start_time": "2021-11-16T10:59:34.518Z"
   },
   {
    "duration": 3,
    "start_time": "2021-11-16T11:01:41.201Z"
   },
   {
    "duration": 116,
    "start_time": "2021-11-16T11:01:48.754Z"
   },
   {
    "duration": 3,
    "start_time": "2021-11-16T11:02:16.685Z"
   },
   {
    "duration": 3,
    "start_time": "2021-11-16T11:02:19.479Z"
   },
   {
    "duration": 3,
    "start_time": "2021-11-16T11:02:47.067Z"
   },
   {
    "duration": 3,
    "start_time": "2021-11-16T11:02:49.353Z"
   },
   {
    "duration": 3,
    "start_time": "2021-11-16T11:03:07.835Z"
   },
   {
    "duration": 3,
    "start_time": "2021-11-16T11:03:07.953Z"
   },
   {
    "duration": 112,
    "start_time": "2021-11-16T11:07:52.072Z"
   },
   {
    "duration": 187,
    "start_time": "2021-11-16T11:09:23.468Z"
   },
   {
    "duration": 4,
    "start_time": "2021-11-16T11:10:01.455Z"
   },
   {
    "duration": 3,
    "start_time": "2021-11-16T11:10:05.069Z"
   },
   {
    "duration": 4,
    "start_time": "2021-11-16T11:10:13.376Z"
   },
   {
    "duration": 3,
    "start_time": "2021-11-16T11:10:14.434Z"
   },
   {
    "duration": 3,
    "start_time": "2021-11-16T11:10:22.853Z"
   },
   {
    "duration": 4,
    "start_time": "2021-11-16T11:27:29.279Z"
   },
   {
    "duration": 4,
    "start_time": "2021-11-16T11:29:08.919Z"
   },
   {
    "duration": 118,
    "start_time": "2021-11-16T11:29:46.703Z"
   },
   {
    "duration": 437,
    "start_time": "2021-11-16T11:36:02.181Z"
   },
   {
    "duration": 157,
    "start_time": "2021-11-16T11:36:14.388Z"
   },
   {
    "duration": 207,
    "start_time": "2021-11-16T11:47:15.898Z"
   },
   {
    "duration": 3,
    "start_time": "2021-11-16T11:53:52.092Z"
   },
   {
    "duration": 3,
    "start_time": "2021-11-16T11:53:52.236Z"
   },
   {
    "duration": 3,
    "start_time": "2021-11-16T11:59:12.005Z"
   },
   {
    "duration": 112,
    "start_time": "2021-11-16T12:00:33.446Z"
   },
   {
    "duration": 3,
    "start_time": "2021-11-16T12:02:14.453Z"
   },
   {
    "duration": 3,
    "start_time": "2021-11-16T12:02:39.512Z"
   },
   {
    "duration": 106,
    "start_time": "2021-11-16T12:03:03.460Z"
   },
   {
    "duration": 3,
    "start_time": "2021-11-17T20:37:21.139Z"
   },
   {
    "duration": 3,
    "start_time": "2021-11-17T20:37:22.229Z"
   },
   {
    "duration": 3,
    "start_time": "2021-11-17T20:38:38.806Z"
   },
   {
    "duration": 3,
    "start_time": "2021-11-17T20:38:41.958Z"
   },
   {
    "duration": 3,
    "start_time": "2021-11-17T20:43:46.551Z"
   },
   {
    "duration": 4,
    "start_time": "2021-11-17T20:58:21.835Z"
   },
   {
    "duration": 3,
    "start_time": "2021-11-17T20:59:21.872Z"
   },
   {
    "duration": 4,
    "start_time": "2021-11-17T20:59:45.352Z"
   },
   {
    "duration": 4,
    "start_time": "2021-11-17T20:59:49.646Z"
   },
   {
    "duration": 159,
    "start_time": "2021-11-17T21:02:26.949Z"
   },
   {
    "duration": 3,
    "start_time": "2021-11-17T21:03:53.461Z"
   },
   {
    "duration": 3,
    "start_time": "2021-11-17T21:03:53.694Z"
   },
   {
    "duration": 3,
    "start_time": "2021-11-17T21:05:28.145Z"
   },
   {
    "duration": 116,
    "start_time": "2021-11-17T21:05:57.787Z"
   },
   {
    "duration": 3,
    "start_time": "2021-11-17T21:06:37.993Z"
   },
   {
    "duration": 3,
    "start_time": "2021-11-17T21:06:38.261Z"
   },
   {
    "duration": 3,
    "start_time": "2021-11-17T21:11:54.358Z"
   },
   {
    "duration": 3,
    "start_time": "2021-11-17T21:12:43.846Z"
   },
   {
    "duration": 4,
    "start_time": "2021-11-17T21:13:08.773Z"
   },
   {
    "duration": 3,
    "start_time": "2021-11-17T21:14:44.441Z"
   },
   {
    "duration": 3,
    "start_time": "2021-11-17T21:15:42.059Z"
   },
   {
    "duration": 4,
    "start_time": "2021-11-17T21:15:51.995Z"
   },
   {
    "duration": 3,
    "start_time": "2021-11-17T21:15:53.923Z"
   },
   {
    "duration": 3,
    "start_time": "2021-11-17T21:15:55.282Z"
   },
   {
    "duration": 3,
    "start_time": "2021-11-17T21:16:28.492Z"
   },
   {
    "duration": 3,
    "start_time": "2021-11-17T21:16:32.603Z"
   },
   {
    "duration": 3,
    "start_time": "2021-11-17T21:17:06.941Z"
   },
   {
    "duration": 98,
    "start_time": "2021-11-17T21:18:05.733Z"
   },
   {
    "duration": 4,
    "start_time": "2021-11-17T21:21:35.255Z"
   },
   {
    "duration": 3,
    "start_time": "2021-11-17T21:21:37.804Z"
   },
   {
    "duration": 4,
    "start_time": "2021-11-17T21:23:06.071Z"
   },
   {
    "duration": 3,
    "start_time": "2021-11-17T21:23:24.799Z"
   },
   {
    "duration": 3,
    "start_time": "2021-11-17T21:23:32.591Z"
   },
   {
    "duration": 98,
    "start_time": "2021-11-17T21:28:31.559Z"
   },
   {
    "duration": 3,
    "start_time": "2021-11-17T21:28:45.448Z"
   },
   {
    "duration": 3,
    "start_time": "2021-11-17T21:29:17.303Z"
   },
   {
    "duration": 3,
    "start_time": "2021-11-17T21:29:29.617Z"
   },
   {
    "duration": 3,
    "start_time": "2021-11-17T21:29:32.681Z"
   },
   {
    "duration": 3,
    "start_time": "2021-11-17T21:36:11.474Z"
   },
   {
    "duration": 3,
    "start_time": "2021-11-17T21:36:14.791Z"
   },
   {
    "duration": 3,
    "start_time": "2021-11-17T21:36:53.943Z"
   },
   {
    "duration": 3,
    "start_time": "2021-11-17T21:36:56.165Z"
   },
   {
    "duration": 4,
    "start_time": "2021-11-17T21:37:16.590Z"
   },
   {
    "duration": 3,
    "start_time": "2021-11-17T21:37:22.702Z"
   },
   {
    "duration": 4,
    "start_time": "2021-11-17T21:38:03.479Z"
   },
   {
    "duration": 3,
    "start_time": "2021-11-17T21:38:08.601Z"
   },
   {
    "duration": 3,
    "start_time": "2021-11-17T21:38:12.928Z"
   },
   {
    "duration": 3,
    "start_time": "2021-11-17T21:38:48.896Z"
   },
   {
    "duration": 2,
    "start_time": "2021-11-17T21:38:49.171Z"
   },
   {
    "duration": 4,
    "start_time": "2021-11-17T21:39:57.889Z"
   },
   {
    "duration": 3,
    "start_time": "2021-11-17T21:39:58.057Z"
   },
   {
    "duration": 3,
    "start_time": "2021-11-17T21:41:20.108Z"
   },
   {
    "duration": 3,
    "start_time": "2021-11-17T21:41:20.629Z"
   },
   {
    "duration": 3,
    "start_time": "2021-11-17T21:42:49.136Z"
   },
   {
    "duration": 3,
    "start_time": "2021-11-17T21:43:15.137Z"
   },
   {
    "duration": 4,
    "start_time": "2021-11-17T21:43:16.766Z"
   },
   {
    "duration": 4,
    "start_time": "2021-11-17T21:43:31.711Z"
   },
   {
    "duration": 3,
    "start_time": "2021-11-17T21:43:36.312Z"
   },
   {
    "duration": 4,
    "start_time": "2021-11-17T21:45:08.825Z"
   },
   {
    "duration": 4,
    "start_time": "2021-11-17T21:45:10.119Z"
   },
   {
    "duration": 4,
    "start_time": "2021-11-17T21:45:13.748Z"
   },
   {
    "duration": 3,
    "start_time": "2021-11-17T21:45:22.219Z"
   },
   {
    "duration": 3,
    "start_time": "2021-11-17T21:45:33.412Z"
   },
   {
    "duration": 2,
    "start_time": "2021-11-17T21:46:01.885Z"
   },
   {
    "duration": 3,
    "start_time": "2021-11-17T21:46:03.628Z"
   },
   {
    "duration": 107,
    "start_time": "2021-11-17T21:47:32.512Z"
   },
   {
    "duration": 103,
    "start_time": "2021-11-17T21:50:36.243Z"
   },
   {
    "duration": 3,
    "start_time": "2021-11-18T06:28:31.440Z"
   },
   {
    "duration": 3,
    "start_time": "2021-11-18T06:29:00.168Z"
   },
   {
    "duration": 3,
    "start_time": "2021-11-18T06:31:27.008Z"
   },
   {
    "duration": 2,
    "start_time": "2021-11-18T06:35:34.288Z"
   },
   {
    "duration": 2,
    "start_time": "2021-11-18T06:38:04.527Z"
   }
  ],
  "kernelspec": {
   "display_name": "Python 3 (ipykernel)",
   "language": "python",
   "name": "python3"
  },
  "language_info": {
   "codemirror_mode": {
    "name": "ipython",
    "version": 3
   },
   "file_extension": ".py",
   "mimetype": "text/x-python",
   "name": "python",
   "nbconvert_exporter": "python",
   "pygments_lexer": "ipython3",
   "version": "3.10.9"
  },
  "toc": {
   "base_numbering": 1,
   "nav_menu": {},
   "number_sections": true,
   "sideBar": true,
   "skip_h1_title": false,
   "title_cell": "Table of Contents",
   "title_sidebar": "Contents",
   "toc_cell": false,
   "toc_position": {
    "height": "calc(100% - 180px)",
    "left": "10px",
    "top": "150px",
    "width": "165px"
   },
   "toc_section_display": true,
   "toc_window_display": false
  }
 },
 "nbformat": 4,
 "nbformat_minor": 4
}
